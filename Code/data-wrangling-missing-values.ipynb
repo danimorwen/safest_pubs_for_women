{
  "cells": [
    {
      "cell_type": "code",
      "execution_count": 16,
      "metadata": {
        "colab": {
          "base_uri": "https://localhost:8080/"
        },
        "id": "5d6oszwZh9c9",
        "outputId": "87447185-04fa-43ac-a347-4c2627c620b4"
      },
      "outputs": [
        {
          "name": "stdout",
          "output_type": "stream",
          "text": [
            "Requirement already satisfied: selenium in /usr/local/lib/python3.7/dist-packages (4.1.3)\n",
            "Requirement already satisfied: urllib3[secure,socks]~=1.26 in /usr/local/lib/python3.7/dist-packages (from selenium) (1.26.9)\n",
            "Requirement already satisfied: trio~=0.17 in /usr/local/lib/python3.7/dist-packages (from selenium) (0.20.0)\n",
            "Requirement already satisfied: trio-websocket~=0.9 in /usr/local/lib/python3.7/dist-packages (from selenium) (0.9.2)\n",
            "Requirement already satisfied: outcome in /usr/local/lib/python3.7/dist-packages (from trio~=0.17->selenium) (1.1.0)\n",
            "Requirement already satisfied: sortedcontainers in /usr/local/lib/python3.7/dist-packages (from trio~=0.17->selenium) (2.4.0)\n",
            "Requirement already satisfied: attrs>=19.2.0 in /usr/local/lib/python3.7/dist-packages (from trio~=0.17->selenium) (21.4.0)\n",
            "Requirement already satisfied: idna in /usr/local/lib/python3.7/dist-packages (from trio~=0.17->selenium) (2.10)\n",
            "Requirement already satisfied: sniffio in /usr/local/lib/python3.7/dist-packages (from trio~=0.17->selenium) (1.2.0)\n",
            "Requirement already satisfied: async-generator>=1.9 in /usr/local/lib/python3.7/dist-packages (from trio~=0.17->selenium) (1.10)\n",
            "Requirement already satisfied: wsproto>=0.14 in /usr/local/lib/python3.7/dist-packages (from trio-websocket~=0.9->selenium) (1.1.0)\n",
            "Requirement already satisfied: PySocks!=1.5.7,<2.0,>=1.5.6 in /usr/local/lib/python3.7/dist-packages (from urllib3[secure,socks]~=1.26->selenium) (1.7.1)\n",
            "Requirement already satisfied: pyOpenSSL>=0.14 in /usr/local/lib/python3.7/dist-packages (from urllib3[secure,socks]~=1.26->selenium) (22.0.0)\n",
            "Requirement already satisfied: certifi in /usr/local/lib/python3.7/dist-packages (from urllib3[secure,socks]~=1.26->selenium) (2021.10.8)\n",
            "Requirement already satisfied: cryptography>=1.3.4 in /usr/local/lib/python3.7/dist-packages (from urllib3[secure,socks]~=1.26->selenium) (36.0.2)\n",
            "Requirement already satisfied: cffi>=1.12 in /usr/local/lib/python3.7/dist-packages (from cryptography>=1.3.4->urllib3[secure,socks]~=1.26->selenium) (1.15.0)\n",
            "Requirement already satisfied: pycparser in /usr/local/lib/python3.7/dist-packages (from cffi>=1.12->cryptography>=1.3.4->urllib3[secure,socks]~=1.26->selenium) (2.21)\n",
            "Requirement already satisfied: h11<1,>=0.9.0 in /usr/local/lib/python3.7/dist-packages (from wsproto>=0.14->trio-websocket~=0.9->selenium) (0.13.0)\n",
            "Requirement already satisfied: typing-extensions in /usr/local/lib/python3.7/dist-packages (from h11<1,>=0.9.0->wsproto>=0.14->trio-websocket~=0.9->selenium) (4.2.0)\n",
            "Reading package lists... Done\n",
            "Building dependency tree       \n",
            "Reading state information... Done\n",
            "The following additional packages will be installed:\n",
            "  chromium-browser chromium-browser-l10n chromium-codecs-ffmpeg-extra\n",
            "Suggested packages:\n",
            "  webaccounts-chromium-extension unity-chromium-extension\n",
            "The following NEW packages will be installed:\n",
            "  chromium-browser chromium-browser-l10n chromium-chromedriver\n",
            "  chromium-codecs-ffmpeg-extra\n",
            "0 upgraded, 4 newly installed, 0 to remove and 40 not upgraded.\n",
            "Need to get 88.3 MB of archives.\n",
            "After this operation, 294 MB of additional disk space will be used.\n",
            "Get:1 http://archive.ubuntu.com/ubuntu bionic-updates/universe amd64 chromium-codecs-ffmpeg-extra amd64 99.0.4844.84-0ubuntu0.18.04.1 [1,142 kB]\n",
            "Get:2 http://archive.ubuntu.com/ubuntu bionic-updates/universe amd64 chromium-browser amd64 99.0.4844.84-0ubuntu0.18.04.1 [77.7 MB]\n",
            "Get:3 http://archive.ubuntu.com/ubuntu bionic-updates/universe amd64 chromium-browser-l10n all 99.0.4844.84-0ubuntu0.18.04.1 [4,397 kB]\n",
            "Get:4 http://archive.ubuntu.com/ubuntu bionic-updates/universe amd64 chromium-chromedriver amd64 99.0.4844.84-0ubuntu0.18.04.1 [5,092 kB]\n",
            "Fetched 88.3 MB in 2s (52.6 MB/s)\n",
            "Selecting previously unselected package chromium-codecs-ffmpeg-extra.\n",
            "(Reading database ... 155501 files and directories currently installed.)\n",
            "Preparing to unpack .../chromium-codecs-ffmpeg-extra_99.0.4844.84-0ubuntu0.18.04.1_amd64.deb ...\n",
            "Unpacking chromium-codecs-ffmpeg-extra (99.0.4844.84-0ubuntu0.18.04.1) ...\n",
            "Selecting previously unselected package chromium-browser.\n",
            "Preparing to unpack .../chromium-browser_99.0.4844.84-0ubuntu0.18.04.1_amd64.deb ...\n",
            "Unpacking chromium-browser (99.0.4844.84-0ubuntu0.18.04.1) ...\n",
            "Selecting previously unselected package chromium-browser-l10n.\n",
            "Preparing to unpack .../chromium-browser-l10n_99.0.4844.84-0ubuntu0.18.04.1_all.deb ...\n",
            "Unpacking chromium-browser-l10n (99.0.4844.84-0ubuntu0.18.04.1) ...\n",
            "Selecting previously unselected package chromium-chromedriver.\n",
            "Preparing to unpack .../chromium-chromedriver_99.0.4844.84-0ubuntu0.18.04.1_amd64.deb ...\n",
            "Unpacking chromium-chromedriver (99.0.4844.84-0ubuntu0.18.04.1) ...\n",
            "Setting up chromium-codecs-ffmpeg-extra (99.0.4844.84-0ubuntu0.18.04.1) ...\n",
            "Setting up chromium-browser (99.0.4844.84-0ubuntu0.18.04.1) ...\n",
            "update-alternatives: using /usr/bin/chromium-browser to provide /usr/bin/x-www-browser (x-www-browser) in auto mode\n",
            "update-alternatives: using /usr/bin/chromium-browser to provide /usr/bin/gnome-www-browser (gnome-www-browser) in auto mode\n",
            "Setting up chromium-chromedriver (99.0.4844.84-0ubuntu0.18.04.1) ...\n",
            "Setting up chromium-browser-l10n (99.0.4844.84-0ubuntu0.18.04.1) ...\n",
            "Processing triggers for man-db (2.8.3-2ubuntu0.1) ...\n",
            "Processing triggers for hicolor-icon-theme (0.17-2) ...\n",
            "Processing triggers for mime-support (3.60ubuntu1) ...\n",
            "Processing triggers for libc-bin (2.27-3ubuntu1.3) ...\n",
            "/sbin/ldconfig.real: /usr/local/lib/python3.7/dist-packages/ideep4py/lib/libmkldnn.so.0 is not a symbolic link\n",
            "\n"
          ]
        }
      ],
      "source": [
        "!pip install selenium\n",
        "!apt install chromium-chromedriver"
      ]
    },
    {
      "cell_type": "code",
      "execution_count": 22,
      "metadata": {
        "id": "TYuEeIFB5q4X"
      },
      "outputs": [],
      "source": [
        "import pandas as pd\n",
        "import numpy as np\n",
        "import selenium\n",
        "import time\n",
        "\n",
        "from geopy.geocoders import Nominatim\n",
        "from selenium import webdriver\n",
        "options = webdriver.ChromeOptions()\n",
        "options.add_argument('--headless')\n",
        "options.add_argument('--no-sandbox')\n",
        "options.add_argument('--disable-dev-shm-usage')"
      ]
    },
    {
      "cell_type": "code",
      "execution_count": 110,
      "metadata": {
        "id": "8NCqkWZx56lK"
      },
      "outputs": [],
      "source": [
        "df_original = pd.read_csv(\"/content/data-wrangling-pubs_data_with_crimes.csv\", index_col=[0])"
      ]
    },
    {
      "cell_type": "code",
      "execution_count": 111,
      "metadata": {
        "id": "ZUNvzKER84W5"
      },
      "outputs": [],
      "source": [
        "df = df_original.copy()"
      ]
    },
    {
      "cell_type": "code",
      "execution_count": 112,
      "metadata": {
        "colab": {
          "base_uri": "https://localhost:8080/",
          "height": 444
        },
        "id": "on-_qCwC6NdQ",
        "outputId": "5333d399-ddf5-4d61-81c0-102aa03fe674"
      },
      "outputs": [
        {
          "data": {
            "text/html": [
              "\n",
              "  <div id=\"df-4ce03de8-8f9e-475c-8e8c-fad93e3b3483\">\n",
              "    <div class=\"colab-df-container\">\n",
              "      <div>\n",
              "<style scoped>\n",
              "    .dataframe tbody tr th:only-of-type {\n",
              "        vertical-align: middle;\n",
              "    }\n",
              "\n",
              "    .dataframe tbody tr th {\n",
              "        vertical-align: top;\n",
              "    }\n",
              "\n",
              "    .dataframe thead th {\n",
              "        text-align: right;\n",
              "    }\n",
              "</style>\n",
              "<table border=\"1\" class=\"dataframe\">\n",
              "  <thead>\n",
              "    <tr style=\"text-align: right;\">\n",
              "      <th></th>\n",
              "      <th>fsq_id</th>\n",
              "      <th>name</th>\n",
              "      <th>address</th>\n",
              "      <th>locality</th>\n",
              "      <th>neighborhood</th>\n",
              "      <th>postcode</th>\n",
              "      <th>category</th>\n",
              "      <th>latitude</th>\n",
              "      <th>longitude</th>\n",
              "      <th>popularity</th>\n",
              "      <th>price</th>\n",
              "      <th>rating</th>\n",
              "      <th>distance_metro</th>\n",
              "      <th>distance_police</th>\n",
              "      <th>number_of_crimes</th>\n",
              "    </tr>\n",
              "  </thead>\n",
              "  <tbody>\n",
              "    <tr>\n",
              "      <th>0</th>\n",
              "      <td>4bc1e42eabf49521c690c193</td>\n",
              "      <td>The Black Horse</td>\n",
              "      <td>92 Wood St</td>\n",
              "      <td>London</td>\n",
              "      <td>Barnet</td>\n",
              "      <td>EN5 4BW</td>\n",
              "      <td>Pub</td>\n",
              "      <td>51.653075</td>\n",
              "      <td>-0.206657</td>\n",
              "      <td>0.939551</td>\n",
              "      <td>1.0</td>\n",
              "      <td>8.1</td>\n",
              "      <td>904.722178</td>\n",
              "      <td>390.281423</td>\n",
              "      <td>30</td>\n",
              "    </tr>\n",
              "    <tr>\n",
              "      <th>1</th>\n",
              "      <td>4b995bccf964a5209f7535e3</td>\n",
              "      <td>Ye Olde Mitre Inne</td>\n",
              "      <td>58 High St</td>\n",
              "      <td>Hertfordshire</td>\n",
              "      <td>Barnet</td>\n",
              "      <td>EN5 5SJ</td>\n",
              "      <td>Pub</td>\n",
              "      <td>51.652979</td>\n",
              "      <td>-0.199367</td>\n",
              "      <td>0.982768</td>\n",
              "      <td>1.0</td>\n",
              "      <td>7.6</td>\n",
              "      <td>443.945965</td>\n",
              "      <td>119.561106</td>\n",
              "      <td>45</td>\n",
              "    </tr>\n",
              "    <tr>\n",
              "      <th>2</th>\n",
              "      <td>4bb4da3fa7059521b8cc1bce</td>\n",
              "      <td>The Arkley</td>\n",
              "      <td>Barnet Rd</td>\n",
              "      <td>Barnet</td>\n",
              "      <td>Barnet</td>\n",
              "      <td>EN5 3EP</td>\n",
              "      <td>Pub</td>\n",
              "      <td>51.652533</td>\n",
              "      <td>-0.219573</td>\n",
              "      <td>0.987375</td>\n",
              "      <td>1.0</td>\n",
              "      <td>7.7</td>\n",
              "      <td>1767.173867</td>\n",
              "      <td>1215.815963</td>\n",
              "      <td>2</td>\n",
              "    </tr>\n",
              "    <tr>\n",
              "      <th>3</th>\n",
              "      <td>4dc436e5ae608779d11bd561</td>\n",
              "      <td>Railway Tavern</td>\n",
              "      <td>3 East Barnet Rd</td>\n",
              "      <td>Barnet</td>\n",
              "      <td>Barnet</td>\n",
              "      <td>EN4 8RR</td>\n",
              "      <td>Pub</td>\n",
              "      <td>51.650059</td>\n",
              "      <td>-0.174692</td>\n",
              "      <td>0.950895</td>\n",
              "      <td>1.0</td>\n",
              "      <td>7.4</td>\n",
              "      <td>1343.248049</td>\n",
              "      <td>1149.621255</td>\n",
              "      <td>64</td>\n",
              "    </tr>\n",
              "    <tr>\n",
              "      <th>4</th>\n",
              "      <td>4d72b1e78e12b1f793863f05</td>\n",
              "      <td>The Kings Head</td>\n",
              "      <td>84 High St</td>\n",
              "      <td>Barnet</td>\n",
              "      <td>Barnet</td>\n",
              "      <td>EN5 5SN</td>\n",
              "      <td>Pub</td>\n",
              "      <td>51.653499</td>\n",
              "      <td>-0.200979</td>\n",
              "      <td>0.377777</td>\n",
              "      <td>1.0</td>\n",
              "      <td>6.6</td>\n",
              "      <td>568.292759</td>\n",
              "      <td>98.112834</td>\n",
              "      <td>40</td>\n",
              "    </tr>\n",
              "  </tbody>\n",
              "</table>\n",
              "</div>\n",
              "      <button class=\"colab-df-convert\" onclick=\"convertToInteractive('df-4ce03de8-8f9e-475c-8e8c-fad93e3b3483')\"\n",
              "              title=\"Convert this dataframe to an interactive table.\"\n",
              "              style=\"display:none;\">\n",
              "        \n",
              "  <svg xmlns=\"http://www.w3.org/2000/svg\" height=\"24px\"viewBox=\"0 0 24 24\"\n",
              "       width=\"24px\">\n",
              "    <path d=\"M0 0h24v24H0V0z\" fill=\"none\"/>\n",
              "    <path d=\"M18.56 5.44l.94 2.06.94-2.06 2.06-.94-2.06-.94-.94-2.06-.94 2.06-2.06.94zm-11 1L8.5 8.5l.94-2.06 2.06-.94-2.06-.94L8.5 2.5l-.94 2.06-2.06.94zm10 10l.94 2.06.94-2.06 2.06-.94-2.06-.94-.94-2.06-.94 2.06-2.06.94z\"/><path d=\"M17.41 7.96l-1.37-1.37c-.4-.4-.92-.59-1.43-.59-.52 0-1.04.2-1.43.59L10.3 9.45l-7.72 7.72c-.78.78-.78 2.05 0 2.83L4 21.41c.39.39.9.59 1.41.59.51 0 1.02-.2 1.41-.59l7.78-7.78 2.81-2.81c.8-.78.8-2.07 0-2.86zM5.41 20L4 18.59l7.72-7.72 1.47 1.35L5.41 20z\"/>\n",
              "  </svg>\n",
              "      </button>\n",
              "      \n",
              "  <style>\n",
              "    .colab-df-container {\n",
              "      display:flex;\n",
              "      flex-wrap:wrap;\n",
              "      gap: 12px;\n",
              "    }\n",
              "\n",
              "    .colab-df-convert {\n",
              "      background-color: #E8F0FE;\n",
              "      border: none;\n",
              "      border-radius: 50%;\n",
              "      cursor: pointer;\n",
              "      display: none;\n",
              "      fill: #1967D2;\n",
              "      height: 32px;\n",
              "      padding: 0 0 0 0;\n",
              "      width: 32px;\n",
              "    }\n",
              "\n",
              "    .colab-df-convert:hover {\n",
              "      background-color: #E2EBFA;\n",
              "      box-shadow: 0px 1px 2px rgba(60, 64, 67, 0.3), 0px 1px 3px 1px rgba(60, 64, 67, 0.15);\n",
              "      fill: #174EA6;\n",
              "    }\n",
              "\n",
              "    [theme=dark] .colab-df-convert {\n",
              "      background-color: #3B4455;\n",
              "      fill: #D2E3FC;\n",
              "    }\n",
              "\n",
              "    [theme=dark] .colab-df-convert:hover {\n",
              "      background-color: #434B5C;\n",
              "      box-shadow: 0px 1px 3px 1px rgba(0, 0, 0, 0.15);\n",
              "      filter: drop-shadow(0px 1px 2px rgba(0, 0, 0, 0.3));\n",
              "      fill: #FFFFFF;\n",
              "    }\n",
              "  </style>\n",
              "\n",
              "      <script>\n",
              "        const buttonEl =\n",
              "          document.querySelector('#df-4ce03de8-8f9e-475c-8e8c-fad93e3b3483 button.colab-df-convert');\n",
              "        buttonEl.style.display =\n",
              "          google.colab.kernel.accessAllowed ? 'block' : 'none';\n",
              "\n",
              "        async function convertToInteractive(key) {\n",
              "          const element = document.querySelector('#df-4ce03de8-8f9e-475c-8e8c-fad93e3b3483');\n",
              "          const dataTable =\n",
              "            await google.colab.kernel.invokeFunction('convertToInteractive',\n",
              "                                                     [key], {});\n",
              "          if (!dataTable) return;\n",
              "\n",
              "          const docLinkHtml = 'Like what you see? Visit the ' +\n",
              "            '<a target=\"_blank\" href=https://colab.research.google.com/notebooks/data_table.ipynb>data table notebook</a>'\n",
              "            + ' to learn more about interactive tables.';\n",
              "          element.innerHTML = '';\n",
              "          dataTable['output_type'] = 'display_data';\n",
              "          await google.colab.output.renderOutput(dataTable, element);\n",
              "          const docLink = document.createElement('div');\n",
              "          docLink.innerHTML = docLinkHtml;\n",
              "          element.appendChild(docLink);\n",
              "        }\n",
              "      </script>\n",
              "    </div>\n",
              "  </div>\n",
              "  "
            ],
            "text/plain": [
              "                     fsq_id                name           address  \\\n",
              "0  4bc1e42eabf49521c690c193     The Black Horse        92 Wood St   \n",
              "1  4b995bccf964a5209f7535e3  Ye Olde Mitre Inne        58 High St   \n",
              "2  4bb4da3fa7059521b8cc1bce          The Arkley         Barnet Rd   \n",
              "3  4dc436e5ae608779d11bd561      Railway Tavern  3 East Barnet Rd   \n",
              "4  4d72b1e78e12b1f793863f05      The Kings Head        84 High St   \n",
              "\n",
              "        locality neighborhood postcode category   latitude  longitude  \\\n",
              "0         London       Barnet  EN5 4BW      Pub  51.653075  -0.206657   \n",
              "1  Hertfordshire       Barnet  EN5 5SJ      Pub  51.652979  -0.199367   \n",
              "2         Barnet       Barnet  EN5 3EP      Pub  51.652533  -0.219573   \n",
              "3         Barnet       Barnet  EN4 8RR      Pub  51.650059  -0.174692   \n",
              "4         Barnet       Barnet  EN5 5SN      Pub  51.653499  -0.200979   \n",
              "\n",
              "   popularity  price  rating  distance_metro  distance_police  \\\n",
              "0    0.939551    1.0     8.1      904.722178       390.281423   \n",
              "1    0.982768    1.0     7.6      443.945965       119.561106   \n",
              "2    0.987375    1.0     7.7     1767.173867      1215.815963   \n",
              "3    0.950895    1.0     7.4     1343.248049      1149.621255   \n",
              "4    0.377777    1.0     6.6      568.292759        98.112834   \n",
              "\n",
              "   number_of_crimes  \n",
              "0                30  \n",
              "1                45  \n",
              "2                 2  \n",
              "3                64  \n",
              "4                40  "
            ]
          },
          "execution_count": 112,
          "metadata": {},
          "output_type": "execute_result"
        }
      ],
      "source": [
        "df.head()"
      ]
    },
    {
      "cell_type": "code",
      "execution_count": 113,
      "metadata": {
        "colab": {
          "base_uri": "https://localhost:8080/"
        },
        "id": "wdhLhrgF6Ov-",
        "outputId": "2cfe690e-8f32-4ae2-ce2e-a134f0586be4"
      },
      "outputs": [
        {
          "name": "stdout",
          "output_type": "stream",
          "text": [
            "<class 'pandas.core.frame.DataFrame'>\n",
            "Int64Index: 1159 entries, 0 to 1158\n",
            "Data columns (total 15 columns):\n",
            " #   Column            Non-Null Count  Dtype  \n",
            "---  ------            --------------  -----  \n",
            " 0   fsq_id            1159 non-null   object \n",
            " 1   name              1159 non-null   object \n",
            " 2   address           1102 non-null   object \n",
            " 3   locality          1134 non-null   object \n",
            " 4   neighborhood      989 non-null    object \n",
            " 5   postcode          1114 non-null   object \n",
            " 6   category          1159 non-null   object \n",
            " 7   latitude          1159 non-null   float64\n",
            " 8   longitude         1159 non-null   float64\n",
            " 9   popularity        1159 non-null   float64\n",
            " 10  price             1143 non-null   float64\n",
            " 11  rating            865 non-null    float64\n",
            " 12  distance_metro    1159 non-null   float64\n",
            " 13  distance_police   1159 non-null   float64\n",
            " 14  number_of_crimes  1159 non-null   int64  \n",
            "dtypes: float64(7), int64(1), object(7)\n",
            "memory usage: 144.9+ KB\n"
          ]
        }
      ],
      "source": [
        "df.info()"
      ]
    },
    {
      "cell_type": "markdown",
      "metadata": {
        "id": "XUaPviGId4jL"
      },
      "source": [
        "### Remove rows with null value in Rating"
      ]
    },
    {
      "cell_type": "code",
      "execution_count": 114,
      "metadata": {
        "colab": {
          "base_uri": "https://localhost:8080/"
        },
        "id": "3UaQK35MKae3",
        "outputId": "7bfa9ff3-82cb-48a3-d518-30090c30686c"
      },
      "outputs": [
        {
          "data": {
            "text/plain": [
              "fsq_id                0\n",
              "name                  0\n",
              "address              57\n",
              "locality             25\n",
              "neighborhood        170\n",
              "postcode             45\n",
              "category              0\n",
              "latitude              0\n",
              "longitude             0\n",
              "popularity            0\n",
              "price                16\n",
              "rating              294\n",
              "distance_metro        0\n",
              "distance_police       0\n",
              "number_of_crimes      0\n",
              "dtype: int64"
            ]
          },
          "execution_count": 114,
          "metadata": {},
          "output_type": "execute_result"
        }
      ],
      "source": [
        "df.isnull().sum()"
      ]
    },
    {
      "cell_type": "code",
      "execution_count": 115,
      "metadata": {
        "id": "iVSLJrsnvBIE"
      },
      "outputs": [],
      "source": [
        "df.dropna(subset=[\"rating\"], axis=0, inplace=True)"
      ]
    },
    {
      "cell_type": "code",
      "execution_count": 117,
      "metadata": {
        "colab": {
          "base_uri": "https://localhost:8080/"
        },
        "id": "3OWk7BzbFBop",
        "outputId": "fa918781-ff54-4598-da2c-2fd47ee1c90e"
      },
      "outputs": [
        {
          "data": {
            "text/plain": [
              "(865, 15)"
            ]
          },
          "execution_count": 117,
          "metadata": {},
          "output_type": "execute_result"
        }
      ],
      "source": [
        "df.shape"
      ]
    },
    {
      "cell_type": "markdown",
      "metadata": {
        "id": "Wgzj5ovWIC9Q"
      },
      "source": [
        "### Filling missing values about price"
      ]
    },
    {
      "cell_type": "code",
      "execution_count": 118,
      "metadata": {
        "colab": {
          "base_uri": "https://localhost:8080/"
        },
        "id": "8FauefRbIlOV",
        "outputId": "cb85cadc-97ce-42a4-c1b1-71602111c019"
      },
      "outputs": [
        {
          "data": {
            "text/plain": [
              "1.0    698\n",
              "2.0    141\n",
              "3.0     13\n",
              "Name: price, dtype: int64"
            ]
          },
          "execution_count": 118,
          "metadata": {},
          "output_type": "execute_result"
        }
      ],
      "source": [
        "df[\"price\"].value_counts()"
      ]
    },
    {
      "cell_type": "code",
      "execution_count": 119,
      "metadata": {
        "id": "k4JgOqS0JUkR"
      },
      "outputs": [],
      "source": [
        "df[\"price\"].fillna(1, inplace=True)"
      ]
    },
    {
      "cell_type": "code",
      "execution_count": 120,
      "metadata": {
        "colab": {
          "base_uri": "https://localhost:8080/"
        },
        "id": "RjGlEOIxJcR2",
        "outputId": "d2ac19ea-128c-4805-f080-1779bfad4a23"
      },
      "outputs": [
        {
          "data": {
            "text/plain": [
              "1.0    711\n",
              "2.0    141\n",
              "3.0     13\n",
              "Name: price, dtype: int64"
            ]
          },
          "execution_count": 120,
          "metadata": {},
          "output_type": "execute_result"
        }
      ],
      "source": [
        "df[\"price\"].value_counts()"
      ]
    },
    {
      "cell_type": "markdown",
      "metadata": {
        "id": "MHKhHRr66nT5"
      },
      "source": [
        "### Filling missing values about location info"
      ]
    },
    {
      "cell_type": "code",
      "execution_count": 121,
      "metadata": {
        "colab": {
          "base_uri": "https://localhost:8080/"
        },
        "id": "Bx4PHIkRFVQ2",
        "outputId": "9aa75ec1-54eb-496a-fc0e-65d64b8ce2df"
      },
      "outputs": [
        {
          "name": "stdout",
          "output_type": "stream",
          "text": [
            "<class 'pandas.core.frame.DataFrame'>\n",
            "Int64Index: 865 entries, 0 to 1157\n",
            "Data columns (total 15 columns):\n",
            " #   Column            Non-Null Count  Dtype  \n",
            "---  ------            --------------  -----  \n",
            " 0   fsq_id            865 non-null    object \n",
            " 1   name              865 non-null    object \n",
            " 2   address           849 non-null    object \n",
            " 3   locality          859 non-null    object \n",
            " 4   neighborhood      786 non-null    object \n",
            " 5   postcode          860 non-null    object \n",
            " 6   category          865 non-null    object \n",
            " 7   latitude          865 non-null    float64\n",
            " 8   longitude         865 non-null    float64\n",
            " 9   popularity        865 non-null    float64\n",
            " 10  price             865 non-null    float64\n",
            " 11  rating            865 non-null    float64\n",
            " 12  distance_metro    865 non-null    float64\n",
            " 13  distance_police   865 non-null    float64\n",
            " 14  number_of_crimes  865 non-null    int64  \n",
            "dtypes: float64(7), int64(1), object(7)\n",
            "memory usage: 108.1+ KB\n"
          ]
        }
      ],
      "source": [
        "df.info()"
      ]
    },
    {
      "cell_type": "code",
      "execution_count": 122,
      "metadata": {
        "id": "kXhfCClW6lPp"
      },
      "outputs": [],
      "source": [
        "geolocator = Nominatim(user_agent=\"women_safety_project\")"
      ]
    },
    {
      "cell_type": "code",
      "execution_count": 123,
      "metadata": {
        "id": "_vLB2IEB8JtC"
      },
      "outputs": [],
      "source": [
        "def get_postcode(latitude, longitude):\n",
        "  geocodes = f\"{latitude}, {longitude}\"\n",
        "  location = geolocator.reverse(geocodes)\n",
        "  location_splitted = location.address.split(\",\")\n",
        "  postcode = location_splitted[-2].strip()\n",
        "  return postcode"
      ]
    },
    {
      "cell_type": "code",
      "execution_count": 124,
      "metadata": {
        "id": "dqPeay4ZBg8_"
      },
      "outputs": [],
      "source": [
        "empty_postcode = df[df[\"postcode\"].isnull()]"
      ]
    },
    {
      "cell_type": "code",
      "execution_count": 125,
      "metadata": {
        "colab": {
          "base_uri": "https://localhost:8080/",
          "height": 461
        },
        "id": "N3QxAt1t7-A1",
        "outputId": "a88b2c03-4f1c-4fed-e7d8-5cfbdf3531b3"
      },
      "outputs": [
        {
          "data": {
            "text/html": [
              "\n",
              "  <div id=\"df-c96a5ef8-5d21-40cf-ab35-f2bded98bdc6\">\n",
              "    <div class=\"colab-df-container\">\n",
              "      <div>\n",
              "<style scoped>\n",
              "    .dataframe tbody tr th:only-of-type {\n",
              "        vertical-align: middle;\n",
              "    }\n",
              "\n",
              "    .dataframe tbody tr th {\n",
              "        vertical-align: top;\n",
              "    }\n",
              "\n",
              "    .dataframe thead th {\n",
              "        text-align: right;\n",
              "    }\n",
              "</style>\n",
              "<table border=\"1\" class=\"dataframe\">\n",
              "  <thead>\n",
              "    <tr style=\"text-align: right;\">\n",
              "      <th></th>\n",
              "      <th>fsq_id</th>\n",
              "      <th>name</th>\n",
              "      <th>address</th>\n",
              "      <th>locality</th>\n",
              "      <th>neighborhood</th>\n",
              "      <th>postcode</th>\n",
              "      <th>category</th>\n",
              "      <th>latitude</th>\n",
              "      <th>longitude</th>\n",
              "      <th>popularity</th>\n",
              "      <th>price</th>\n",
              "      <th>rating</th>\n",
              "      <th>distance_metro</th>\n",
              "      <th>distance_police</th>\n",
              "      <th>number_of_crimes</th>\n",
              "    </tr>\n",
              "  </thead>\n",
              "  <tbody>\n",
              "    <tr>\n",
              "      <th>5</th>\n",
              "      <td>4c0bab78ffb8c9b6e9886d61</td>\n",
              "      <td>The Monken Holt</td>\n",
              "      <td>NaN</td>\n",
              "      <td>NaN</td>\n",
              "      <td>Monken Hadley</td>\n",
              "      <td>NaN</td>\n",
              "      <td>Pub</td>\n",
              "      <td>51.658291</td>\n",
              "      <td>-0.201368</td>\n",
              "      <td>0.246146</td>\n",
              "      <td>1.0</td>\n",
              "      <td>6.8</td>\n",
              "      <td>985.031978</td>\n",
              "      <td>313.707805</td>\n",
              "      <td>22</td>\n",
              "    </tr>\n",
              "    <tr>\n",
              "      <th>593</th>\n",
              "      <td>4f2188efe4b0cebcfb6406aa</td>\n",
              "      <td>Ortaköy, Shisha Lounge Bar</td>\n",
              "      <td>83 Mayes Rd</td>\n",
              "      <td>London</td>\n",
              "      <td>NaN</td>\n",
              "      <td>NaN</td>\n",
              "      <td>Pub</td>\n",
              "      <td>51.594699</td>\n",
              "      <td>-0.112428</td>\n",
              "      <td>0.926055</td>\n",
              "      <td>1.0</td>\n",
              "      <td>6.7</td>\n",
              "      <td>338.706696</td>\n",
              "      <td>692.464304</td>\n",
              "      <td>193</td>\n",
              "    </tr>\n",
              "    <tr>\n",
              "      <th>674</th>\n",
              "      <td>4c653ed03f69c9b6fea28ad9</td>\n",
              "      <td>The General Elliott</td>\n",
              "      <td>NaN</td>\n",
              "      <td>NaN</td>\n",
              "      <td>NaN</td>\n",
              "      <td>NaN</td>\n",
              "      <td>Pub</td>\n",
              "      <td>51.542912</td>\n",
              "      <td>-0.488453</td>\n",
              "      <td>0.913205</td>\n",
              "      <td>1.0</td>\n",
              "      <td>7.6</td>\n",
              "      <td>890.998637</td>\n",
              "      <td>758.963937</td>\n",
              "      <td>56</td>\n",
              "    </tr>\n",
              "    <tr>\n",
              "      <th>808</th>\n",
              "      <td>4c75413c1b30a09338c4ee09</td>\n",
              "      <td>The Limping Fox</td>\n",
              "      <td>Rushett Rd</td>\n",
              "      <td>Long Ditton</td>\n",
              "      <td>NaN</td>\n",
              "      <td>NaN</td>\n",
              "      <td>Pub</td>\n",
              "      <td>51.386031</td>\n",
              "      <td>-0.323829</td>\n",
              "      <td>0.990826</td>\n",
              "      <td>1.0</td>\n",
              "      <td>7.5</td>\n",
              "      <td>8735.604023</td>\n",
              "      <td>1833.711334</td>\n",
              "      <td>0</td>\n",
              "    </tr>\n",
              "    <tr>\n",
              "      <th>818</th>\n",
              "      <td>562d09d4498eb208288dda65</td>\n",
              "      <td>The Railway Pub</td>\n",
              "      <td>3 Victoria Rd</td>\n",
              "      <td>London</td>\n",
              "      <td>NaN</td>\n",
              "      <td>NaN</td>\n",
              "      <td>Pub</td>\n",
              "      <td>51.424276</td>\n",
              "      <td>-0.332793</td>\n",
              "      <td>0.916892</td>\n",
              "      <td>1.0</td>\n",
              "      <td>6.9</td>\n",
              "      <td>4847.893502</td>\n",
              "      <td>166.437456</td>\n",
              "      <td>38</td>\n",
              "    </tr>\n",
              "  </tbody>\n",
              "</table>\n",
              "</div>\n",
              "      <button class=\"colab-df-convert\" onclick=\"convertToInteractive('df-c96a5ef8-5d21-40cf-ab35-f2bded98bdc6')\"\n",
              "              title=\"Convert this dataframe to an interactive table.\"\n",
              "              style=\"display:none;\">\n",
              "        \n",
              "  <svg xmlns=\"http://www.w3.org/2000/svg\" height=\"24px\"viewBox=\"0 0 24 24\"\n",
              "       width=\"24px\">\n",
              "    <path d=\"M0 0h24v24H0V0z\" fill=\"none\"/>\n",
              "    <path d=\"M18.56 5.44l.94 2.06.94-2.06 2.06-.94-2.06-.94-.94-2.06-.94 2.06-2.06.94zm-11 1L8.5 8.5l.94-2.06 2.06-.94-2.06-.94L8.5 2.5l-.94 2.06-2.06.94zm10 10l.94 2.06.94-2.06 2.06-.94-2.06-.94-.94-2.06-.94 2.06-2.06.94z\"/><path d=\"M17.41 7.96l-1.37-1.37c-.4-.4-.92-.59-1.43-.59-.52 0-1.04.2-1.43.59L10.3 9.45l-7.72 7.72c-.78.78-.78 2.05 0 2.83L4 21.41c.39.39.9.59 1.41.59.51 0 1.02-.2 1.41-.59l7.78-7.78 2.81-2.81c.8-.78.8-2.07 0-2.86zM5.41 20L4 18.59l7.72-7.72 1.47 1.35L5.41 20z\"/>\n",
              "  </svg>\n",
              "      </button>\n",
              "      \n",
              "  <style>\n",
              "    .colab-df-container {\n",
              "      display:flex;\n",
              "      flex-wrap:wrap;\n",
              "      gap: 12px;\n",
              "    }\n",
              "\n",
              "    .colab-df-convert {\n",
              "      background-color: #E8F0FE;\n",
              "      border: none;\n",
              "      border-radius: 50%;\n",
              "      cursor: pointer;\n",
              "      display: none;\n",
              "      fill: #1967D2;\n",
              "      height: 32px;\n",
              "      padding: 0 0 0 0;\n",
              "      width: 32px;\n",
              "    }\n",
              "\n",
              "    .colab-df-convert:hover {\n",
              "      background-color: #E2EBFA;\n",
              "      box-shadow: 0px 1px 2px rgba(60, 64, 67, 0.3), 0px 1px 3px 1px rgba(60, 64, 67, 0.15);\n",
              "      fill: #174EA6;\n",
              "    }\n",
              "\n",
              "    [theme=dark] .colab-df-convert {\n",
              "      background-color: #3B4455;\n",
              "      fill: #D2E3FC;\n",
              "    }\n",
              "\n",
              "    [theme=dark] .colab-df-convert:hover {\n",
              "      background-color: #434B5C;\n",
              "      box-shadow: 0px 1px 3px 1px rgba(0, 0, 0, 0.15);\n",
              "      filter: drop-shadow(0px 1px 2px rgba(0, 0, 0, 0.3));\n",
              "      fill: #FFFFFF;\n",
              "    }\n",
              "  </style>\n",
              "\n",
              "      <script>\n",
              "        const buttonEl =\n",
              "          document.querySelector('#df-c96a5ef8-5d21-40cf-ab35-f2bded98bdc6 button.colab-df-convert');\n",
              "        buttonEl.style.display =\n",
              "          google.colab.kernel.accessAllowed ? 'block' : 'none';\n",
              "\n",
              "        async function convertToInteractive(key) {\n",
              "          const element = document.querySelector('#df-c96a5ef8-5d21-40cf-ab35-f2bded98bdc6');\n",
              "          const dataTable =\n",
              "            await google.colab.kernel.invokeFunction('convertToInteractive',\n",
              "                                                     [key], {});\n",
              "          if (!dataTable) return;\n",
              "\n",
              "          const docLinkHtml = 'Like what you see? Visit the ' +\n",
              "            '<a target=\"_blank\" href=https://colab.research.google.com/notebooks/data_table.ipynb>data table notebook</a>'\n",
              "            + ' to learn more about interactive tables.';\n",
              "          element.innerHTML = '';\n",
              "          dataTable['output_type'] = 'display_data';\n",
              "          await google.colab.output.renderOutput(dataTable, element);\n",
              "          const docLink = document.createElement('div');\n",
              "          docLink.innerHTML = docLinkHtml;\n",
              "          element.appendChild(docLink);\n",
              "        }\n",
              "      </script>\n",
              "    </div>\n",
              "  </div>\n",
              "  "
            ],
            "text/plain": [
              "                       fsq_id                        name        address  \\\n",
              "5    4c0bab78ffb8c9b6e9886d61             The Monken Holt            NaN   \n",
              "593  4f2188efe4b0cebcfb6406aa  Ortaköy, Shisha Lounge Bar    83 Mayes Rd   \n",
              "674  4c653ed03f69c9b6fea28ad9         The General Elliott            NaN   \n",
              "808  4c75413c1b30a09338c4ee09             The Limping Fox     Rushett Rd   \n",
              "818  562d09d4498eb208288dda65             The Railway Pub  3 Victoria Rd   \n",
              "\n",
              "        locality   neighborhood postcode category   latitude  longitude  \\\n",
              "5            NaN  Monken Hadley      NaN      Pub  51.658291  -0.201368   \n",
              "593       London            NaN      NaN      Pub  51.594699  -0.112428   \n",
              "674          NaN            NaN      NaN      Pub  51.542912  -0.488453   \n",
              "808  Long Ditton            NaN      NaN      Pub  51.386031  -0.323829   \n",
              "818       London            NaN      NaN      Pub  51.424276  -0.332793   \n",
              "\n",
              "     popularity  price  rating  distance_metro  distance_police  \\\n",
              "5      0.246146    1.0     6.8      985.031978       313.707805   \n",
              "593    0.926055    1.0     6.7      338.706696       692.464304   \n",
              "674    0.913205    1.0     7.6      890.998637       758.963937   \n",
              "808    0.990826    1.0     7.5     8735.604023      1833.711334   \n",
              "818    0.916892    1.0     6.9     4847.893502       166.437456   \n",
              "\n",
              "     number_of_crimes  \n",
              "5                  22  \n",
              "593               193  \n",
              "674                56  \n",
              "808                 0  \n",
              "818                38  "
            ]
          },
          "execution_count": 125,
          "metadata": {},
          "output_type": "execute_result"
        }
      ],
      "source": [
        "empty_postcode.head()"
      ]
    },
    {
      "cell_type": "code",
      "execution_count": 126,
      "metadata": {
        "colab": {
          "base_uri": "https://localhost:8080/"
        },
        "id": "QntnsgoS3qt_",
        "outputId": "d10e3883-c180-4920-a93b-e002ba7b7206"
      },
      "outputs": [
        {
          "name": "stderr",
          "output_type": "stream",
          "text": [
            "/usr/local/lib/python3.7/dist-packages/ipykernel_launcher.py:1: SettingWithCopyWarning: \n",
            "A value is trying to be set on a copy of a slice from a DataFrame.\n",
            "Try using .loc[row_indexer,col_indexer] = value instead\n",
            "\n",
            "See the caveats in the documentation: https://pandas.pydata.org/pandas-docs/stable/user_guide/indexing.html#returning-a-view-versus-a-copy\n",
            "  \"\"\"Entry point for launching an IPython kernel.\n"
          ]
        }
      ],
      "source": [
        "empty_postcode[\"postcode\"] = empty_postcode.apply(lambda row: get_postcode(row[\"latitude\"], row[\"longitude\"]), axis=1)"
      ]
    },
    {
      "cell_type": "code",
      "execution_count": 128,
      "metadata": {
        "colab": {
          "base_uri": "https://localhost:8080/"
        },
        "id": "H59hMZYtI_3w",
        "outputId": "8ca3e032-af54-4551-fd9b-72820ce8462e"
      },
      "outputs": [
        {
          "name": "stderr",
          "output_type": "stream",
          "text": [
            "/usr/local/lib/python3.7/dist-packages/ipykernel_launcher.py:1: SettingWithCopyWarning: \n",
            "A value is trying to be set on a copy of a slice from a DataFrame\n",
            "\n",
            "See the caveats in the documentation: https://pandas.pydata.org/pandas-docs/stable/user_guide/indexing.html#returning-a-view-versus-a-copy\n",
            "  \"\"\"Entry point for launching an IPython kernel.\n"
          ]
        }
      ],
      "source": [
        "df[\"postcode\"][df[\"postcode\"].isnull()] = empty_postcode[\"postcode\"]"
      ]
    },
    {
      "cell_type": "code",
      "execution_count": 129,
      "metadata": {
        "colab": {
          "base_uri": "https://localhost:8080/"
        },
        "id": "bgy80IvMLaYh",
        "outputId": "b3272302-edbc-4c0e-d23b-dd314fc1e8ef"
      },
      "outputs": [
        {
          "name": "stdout",
          "output_type": "stream",
          "text": [
            "<class 'pandas.core.frame.DataFrame'>\n",
            "Int64Index: 865 entries, 0 to 1157\n",
            "Data columns (total 15 columns):\n",
            " #   Column            Non-Null Count  Dtype  \n",
            "---  ------            --------------  -----  \n",
            " 0   fsq_id            865 non-null    object \n",
            " 1   name              865 non-null    object \n",
            " 2   address           849 non-null    object \n",
            " 3   locality          859 non-null    object \n",
            " 4   neighborhood      786 non-null    object \n",
            " 5   postcode          865 non-null    object \n",
            " 6   category          865 non-null    object \n",
            " 7   latitude          865 non-null    float64\n",
            " 8   longitude         865 non-null    float64\n",
            " 9   popularity        865 non-null    float64\n",
            " 10  price             865 non-null    float64\n",
            " 11  rating            865 non-null    float64\n",
            " 12  distance_metro    865 non-null    float64\n",
            " 13  distance_police   865 non-null    float64\n",
            " 14  number_of_crimes  865 non-null    int64  \n",
            "dtypes: float64(7), int64(1), object(7)\n",
            "memory usage: 140.4+ KB\n"
          ]
        }
      ],
      "source": [
        "df.info()"
      ]
    },
    {
      "cell_type": "markdown",
      "metadata": {
        "id": "RaSSbBixJj3e"
      },
      "source": [
        "### Get borough info"
      ]
    },
    {
      "cell_type": "code",
      "execution_count": 54,
      "metadata": {
        "id": "Yr2_ZGWLQ2Pu"
      },
      "outputs": [],
      "source": [
        "postcode_list = df[\"postcode\"].tolist()"
      ]
    },
    {
      "cell_type": "code",
      "execution_count": 56,
      "metadata": {
        "id": "rFIfSpmjsPSt"
      },
      "outputs": [],
      "source": [
        "browser = webdriver.Chrome(options=options)"
      ]
    },
    {
      "cell_type": "code",
      "execution_count": 57,
      "metadata": {
        "colab": {
          "base_uri": "https://localhost:8080/"
        },
        "id": "4-Xb3kT4lk11",
        "outputId": "e8a4e8b9-19d3-4c2f-ccac-ded625eac840"
      },
      "outputs": [
        {
          "name": "stderr",
          "output_type": "stream",
          "text": [
            "/usr/local/lib/python3.7/dist-packages/ipykernel_launcher.py:5: DeprecationWarning: find_element_by_* commands are deprecated. Please use find_element() instead\n",
            "  \"\"\"\n",
            "/usr/local/lib/python3.7/dist-packages/ipykernel_launcher.py:6: DeprecationWarning: find_element_by_* commands are deprecated. Please use find_element() instead\n",
            "  \n",
            "/usr/local/lib/python3.7/dist-packages/ipykernel_launcher.py:7: DeprecationWarning: find_element_by_css_selector is deprecated. Please use find_element(by=By.CSS_SELECTOR, value=css_selector) instead\n",
            "  import sys\n",
            "/usr/local/lib/python3.7/dist-packages/ipykernel_launcher.py:9: DeprecationWarning: find_element_by_css_selector is deprecated. Please use find_element(by=By.CSS_SELECTOR, value=css_selector) instead\n",
            "  if __name__ == '__main__':\n"
          ]
        },
        {
          "name": "stdout",
          "output_type": "stream",
          "text": [
            "HA20 2HA\n",
            "SW6\n",
            " SW7\n",
            " Sw3\n"
          ]
        }
      ],
      "source": [
        "borough_list = []\n",
        "for postcode in postcode_list:\n",
        "  try:\n",
        "    browser.get(\"https://www.gov.uk/find-local-council\")\n",
        "    browser.find_element_by_id(\"postcode\").clear()\n",
        "    browser.find_element_by_id(\"postcode\").send_keys(postcode)\n",
        "    browser.find_element_by_css_selector(\".gem-c-button.gem-c-button--bottom-margin\").click()\n",
        "    time.sleep(0.5)\n",
        "    borough = browser.find_element_by_css_selector(\".local-authority-results p.govuk-body:first-child\").text\n",
        "    #print(borough)\n",
        "    borough_list.append(borough)\n",
        "  except:\n",
        "    print(postcode)\n",
        "    borough_list.append(np.nan)"
      ]
    },
    {
      "cell_type": "code",
      "execution_count": 130,
      "metadata": {
        "colab": {
          "base_uri": "https://localhost:8080/"
        },
        "id": "Gpuy0rxBsZvh",
        "outputId": "cc8fa4fd-21ca-42ee-8714-acb8d8f6eac6"
      },
      "outputs": [
        {
          "data": {
            "text/plain": [
              "865"
            ]
          },
          "execution_count": 130,
          "metadata": {},
          "output_type": "execute_result"
        }
      ],
      "source": [
        "len(borough_list)"
      ]
    },
    {
      "cell_type": "code",
      "execution_count": 131,
      "metadata": {
        "colab": {
          "base_uri": "https://localhost:8080/"
        },
        "id": "V3i0l6Hb2gL4",
        "outputId": "f2985f3c-dbcc-43fc-995e-e038198ffa10"
      },
      "outputs": [
        {
          "data": {
            "text/plain": [
              "(865, 15)"
            ]
          },
          "execution_count": 131,
          "metadata": {},
          "output_type": "execute_result"
        }
      ],
      "source": [
        "df.shape"
      ]
    },
    {
      "cell_type": "code",
      "execution_count": 132,
      "metadata": {
        "id": "SXUAHnB32lrK"
      },
      "outputs": [],
      "source": [
        "df[\"borough\"] = borough_list"
      ]
    },
    {
      "cell_type": "code",
      "execution_count": 133,
      "metadata": {
        "colab": {
          "base_uri": "https://localhost:8080/",
          "height": 461
        },
        "id": "7y-WO9rC2xBQ",
        "outputId": "8e76598f-4c41-42be-83ca-4991368ecedf"
      },
      "outputs": [
        {
          "data": {
            "text/html": [
              "\n",
              "  <div id=\"df-1739fd06-1caf-45fa-8f0f-f56089f37a2d\">\n",
              "    <div class=\"colab-df-container\">\n",
              "      <div>\n",
              "<style scoped>\n",
              "    .dataframe tbody tr th:only-of-type {\n",
              "        vertical-align: middle;\n",
              "    }\n",
              "\n",
              "    .dataframe tbody tr th {\n",
              "        vertical-align: top;\n",
              "    }\n",
              "\n",
              "    .dataframe thead th {\n",
              "        text-align: right;\n",
              "    }\n",
              "</style>\n",
              "<table border=\"1\" class=\"dataframe\">\n",
              "  <thead>\n",
              "    <tr style=\"text-align: right;\">\n",
              "      <th></th>\n",
              "      <th>fsq_id</th>\n",
              "      <th>name</th>\n",
              "      <th>address</th>\n",
              "      <th>locality</th>\n",
              "      <th>neighborhood</th>\n",
              "      <th>postcode</th>\n",
              "      <th>category</th>\n",
              "      <th>latitude</th>\n",
              "      <th>longitude</th>\n",
              "      <th>popularity</th>\n",
              "      <th>price</th>\n",
              "      <th>rating</th>\n",
              "      <th>distance_metro</th>\n",
              "      <th>distance_police</th>\n",
              "      <th>number_of_crimes</th>\n",
              "      <th>borough</th>\n",
              "    </tr>\n",
              "  </thead>\n",
              "  <tbody>\n",
              "    <tr>\n",
              "      <th>0</th>\n",
              "      <td>4bc1e42eabf49521c690c193</td>\n",
              "      <td>The Black Horse</td>\n",
              "      <td>92 Wood St</td>\n",
              "      <td>London</td>\n",
              "      <td>Barnet</td>\n",
              "      <td>EN5 4BW</td>\n",
              "      <td>Pub</td>\n",
              "      <td>51.653075</td>\n",
              "      <td>-0.206657</td>\n",
              "      <td>0.939551</td>\n",
              "      <td>1.0</td>\n",
              "      <td>8.1</td>\n",
              "      <td>904.722178</td>\n",
              "      <td>390.281423</td>\n",
              "      <td>30</td>\n",
              "      <td>London Borough of Barnet</td>\n",
              "    </tr>\n",
              "    <tr>\n",
              "      <th>1</th>\n",
              "      <td>4b995bccf964a5209f7535e3</td>\n",
              "      <td>Ye Olde Mitre Inne</td>\n",
              "      <td>58 High St</td>\n",
              "      <td>Hertfordshire</td>\n",
              "      <td>Barnet</td>\n",
              "      <td>EN5 5SJ</td>\n",
              "      <td>Pub</td>\n",
              "      <td>51.652979</td>\n",
              "      <td>-0.199367</td>\n",
              "      <td>0.982768</td>\n",
              "      <td>1.0</td>\n",
              "      <td>7.6</td>\n",
              "      <td>443.945965</td>\n",
              "      <td>119.561106</td>\n",
              "      <td>45</td>\n",
              "      <td>London Borough of Barnet</td>\n",
              "    </tr>\n",
              "    <tr>\n",
              "      <th>2</th>\n",
              "      <td>4bb4da3fa7059521b8cc1bce</td>\n",
              "      <td>The Arkley</td>\n",
              "      <td>Barnet Rd</td>\n",
              "      <td>Barnet</td>\n",
              "      <td>Barnet</td>\n",
              "      <td>EN5 3EP</td>\n",
              "      <td>Pub</td>\n",
              "      <td>51.652533</td>\n",
              "      <td>-0.219573</td>\n",
              "      <td>0.987375</td>\n",
              "      <td>1.0</td>\n",
              "      <td>7.7</td>\n",
              "      <td>1767.173867</td>\n",
              "      <td>1215.815963</td>\n",
              "      <td>2</td>\n",
              "      <td>London Borough of Barnet</td>\n",
              "    </tr>\n",
              "    <tr>\n",
              "      <th>3</th>\n",
              "      <td>4dc436e5ae608779d11bd561</td>\n",
              "      <td>Railway Tavern</td>\n",
              "      <td>3 East Barnet Rd</td>\n",
              "      <td>Barnet</td>\n",
              "      <td>Barnet</td>\n",
              "      <td>EN4 8RR</td>\n",
              "      <td>Pub</td>\n",
              "      <td>51.650059</td>\n",
              "      <td>-0.174692</td>\n",
              "      <td>0.950895</td>\n",
              "      <td>1.0</td>\n",
              "      <td>7.4</td>\n",
              "      <td>1343.248049</td>\n",
              "      <td>1149.621255</td>\n",
              "      <td>64</td>\n",
              "      <td>London Borough of Barnet</td>\n",
              "    </tr>\n",
              "    <tr>\n",
              "      <th>4</th>\n",
              "      <td>4d72b1e78e12b1f793863f05</td>\n",
              "      <td>The Kings Head</td>\n",
              "      <td>84 High St</td>\n",
              "      <td>Barnet</td>\n",
              "      <td>Barnet</td>\n",
              "      <td>EN5 5SN</td>\n",
              "      <td>Pub</td>\n",
              "      <td>51.653499</td>\n",
              "      <td>-0.200979</td>\n",
              "      <td>0.377777</td>\n",
              "      <td>1.0</td>\n",
              "      <td>6.6</td>\n",
              "      <td>568.292759</td>\n",
              "      <td>98.112834</td>\n",
              "      <td>40</td>\n",
              "      <td>London Borough of Barnet</td>\n",
              "    </tr>\n",
              "  </tbody>\n",
              "</table>\n",
              "</div>\n",
              "      <button class=\"colab-df-convert\" onclick=\"convertToInteractive('df-1739fd06-1caf-45fa-8f0f-f56089f37a2d')\"\n",
              "              title=\"Convert this dataframe to an interactive table.\"\n",
              "              style=\"display:none;\">\n",
              "        \n",
              "  <svg xmlns=\"http://www.w3.org/2000/svg\" height=\"24px\"viewBox=\"0 0 24 24\"\n",
              "       width=\"24px\">\n",
              "    <path d=\"M0 0h24v24H0V0z\" fill=\"none\"/>\n",
              "    <path d=\"M18.56 5.44l.94 2.06.94-2.06 2.06-.94-2.06-.94-.94-2.06-.94 2.06-2.06.94zm-11 1L8.5 8.5l.94-2.06 2.06-.94-2.06-.94L8.5 2.5l-.94 2.06-2.06.94zm10 10l.94 2.06.94-2.06 2.06-.94-2.06-.94-.94-2.06-.94 2.06-2.06.94z\"/><path d=\"M17.41 7.96l-1.37-1.37c-.4-.4-.92-.59-1.43-.59-.52 0-1.04.2-1.43.59L10.3 9.45l-7.72 7.72c-.78.78-.78 2.05 0 2.83L4 21.41c.39.39.9.59 1.41.59.51 0 1.02-.2 1.41-.59l7.78-7.78 2.81-2.81c.8-.78.8-2.07 0-2.86zM5.41 20L4 18.59l7.72-7.72 1.47 1.35L5.41 20z\"/>\n",
              "  </svg>\n",
              "      </button>\n",
              "      \n",
              "  <style>\n",
              "    .colab-df-container {\n",
              "      display:flex;\n",
              "      flex-wrap:wrap;\n",
              "      gap: 12px;\n",
              "    }\n",
              "\n",
              "    .colab-df-convert {\n",
              "      background-color: #E8F0FE;\n",
              "      border: none;\n",
              "      border-radius: 50%;\n",
              "      cursor: pointer;\n",
              "      display: none;\n",
              "      fill: #1967D2;\n",
              "      height: 32px;\n",
              "      padding: 0 0 0 0;\n",
              "      width: 32px;\n",
              "    }\n",
              "\n",
              "    .colab-df-convert:hover {\n",
              "      background-color: #E2EBFA;\n",
              "      box-shadow: 0px 1px 2px rgba(60, 64, 67, 0.3), 0px 1px 3px 1px rgba(60, 64, 67, 0.15);\n",
              "      fill: #174EA6;\n",
              "    }\n",
              "\n",
              "    [theme=dark] .colab-df-convert {\n",
              "      background-color: #3B4455;\n",
              "      fill: #D2E3FC;\n",
              "    }\n",
              "\n",
              "    [theme=dark] .colab-df-convert:hover {\n",
              "      background-color: #434B5C;\n",
              "      box-shadow: 0px 1px 3px 1px rgba(0, 0, 0, 0.15);\n",
              "      filter: drop-shadow(0px 1px 2px rgba(0, 0, 0, 0.3));\n",
              "      fill: #FFFFFF;\n",
              "    }\n",
              "  </style>\n",
              "\n",
              "      <script>\n",
              "        const buttonEl =\n",
              "          document.querySelector('#df-1739fd06-1caf-45fa-8f0f-f56089f37a2d button.colab-df-convert');\n",
              "        buttonEl.style.display =\n",
              "          google.colab.kernel.accessAllowed ? 'block' : 'none';\n",
              "\n",
              "        async function convertToInteractive(key) {\n",
              "          const element = document.querySelector('#df-1739fd06-1caf-45fa-8f0f-f56089f37a2d');\n",
              "          const dataTable =\n",
              "            await google.colab.kernel.invokeFunction('convertToInteractive',\n",
              "                                                     [key], {});\n",
              "          if (!dataTable) return;\n",
              "\n",
              "          const docLinkHtml = 'Like what you see? Visit the ' +\n",
              "            '<a target=\"_blank\" href=https://colab.research.google.com/notebooks/data_table.ipynb>data table notebook</a>'\n",
              "            + ' to learn more about interactive tables.';\n",
              "          element.innerHTML = '';\n",
              "          dataTable['output_type'] = 'display_data';\n",
              "          await google.colab.output.renderOutput(dataTable, element);\n",
              "          const docLink = document.createElement('div');\n",
              "          docLink.innerHTML = docLinkHtml;\n",
              "          element.appendChild(docLink);\n",
              "        }\n",
              "      </script>\n",
              "    </div>\n",
              "  </div>\n",
              "  "
            ],
            "text/plain": [
              "                     fsq_id                name           address  \\\n",
              "0  4bc1e42eabf49521c690c193     The Black Horse        92 Wood St   \n",
              "1  4b995bccf964a5209f7535e3  Ye Olde Mitre Inne        58 High St   \n",
              "2  4bb4da3fa7059521b8cc1bce          The Arkley         Barnet Rd   \n",
              "3  4dc436e5ae608779d11bd561      Railway Tavern  3 East Barnet Rd   \n",
              "4  4d72b1e78e12b1f793863f05      The Kings Head        84 High St   \n",
              "\n",
              "        locality neighborhood postcode category   latitude  longitude  \\\n",
              "0         London       Barnet  EN5 4BW      Pub  51.653075  -0.206657   \n",
              "1  Hertfordshire       Barnet  EN5 5SJ      Pub  51.652979  -0.199367   \n",
              "2         Barnet       Barnet  EN5 3EP      Pub  51.652533  -0.219573   \n",
              "3         Barnet       Barnet  EN4 8RR      Pub  51.650059  -0.174692   \n",
              "4         Barnet       Barnet  EN5 5SN      Pub  51.653499  -0.200979   \n",
              "\n",
              "   popularity  price  rating  distance_metro  distance_police  \\\n",
              "0    0.939551    1.0     8.1      904.722178       390.281423   \n",
              "1    0.982768    1.0     7.6      443.945965       119.561106   \n",
              "2    0.987375    1.0     7.7     1767.173867      1215.815963   \n",
              "3    0.950895    1.0     7.4     1343.248049      1149.621255   \n",
              "4    0.377777    1.0     6.6      568.292759        98.112834   \n",
              "\n",
              "   number_of_crimes                   borough  \n",
              "0                30  London Borough of Barnet  \n",
              "1                45  London Borough of Barnet  \n",
              "2                 2  London Borough of Barnet  \n",
              "3                64  London Borough of Barnet  \n",
              "4                40  London Borough of Barnet  "
            ]
          },
          "execution_count": 133,
          "metadata": {},
          "output_type": "execute_result"
        }
      ],
      "source": [
        "df.head()"
      ]
    },
    {
      "cell_type": "code",
      "execution_count": 134,
      "metadata": {
        "colab": {
          "base_uri": "https://localhost:8080/"
        },
        "id": "1rhQEf8X2yDz",
        "outputId": "a07207ca-d4b6-476f-c25d-7e084a1ac5c0"
      },
      "outputs": [
        {
          "name": "stdout",
          "output_type": "stream",
          "text": [
            "<class 'pandas.core.frame.DataFrame'>\n",
            "Int64Index: 865 entries, 0 to 1157\n",
            "Data columns (total 16 columns):\n",
            " #   Column            Non-Null Count  Dtype  \n",
            "---  ------            --------------  -----  \n",
            " 0   fsq_id            865 non-null    object \n",
            " 1   name              865 non-null    object \n",
            " 2   address           849 non-null    object \n",
            " 3   locality          859 non-null    object \n",
            " 4   neighborhood      786 non-null    object \n",
            " 5   postcode          865 non-null    object \n",
            " 6   category          865 non-null    object \n",
            " 7   latitude          865 non-null    float64\n",
            " 8   longitude         865 non-null    float64\n",
            " 9   popularity        865 non-null    float64\n",
            " 10  price             865 non-null    float64\n",
            " 11  rating            865 non-null    float64\n",
            " 12  distance_metro    865 non-null    float64\n",
            " 13  distance_police   865 non-null    float64\n",
            " 14  number_of_crimes  865 non-null    int64  \n",
            " 15  borough           861 non-null    object \n",
            "dtypes: float64(7), int64(1), object(8)\n",
            "memory usage: 147.2+ KB\n"
          ]
        }
      ],
      "source": [
        "df.info()"
      ]
    },
    {
      "cell_type": "code",
      "execution_count": 135,
      "metadata": {
        "colab": {
          "base_uri": "https://localhost:8080/",
          "height": 308
        },
        "id": "MkylTVYh226x",
        "outputId": "14d067fc-80d6-4c50-cf1f-2d4f51662e61"
      },
      "outputs": [
        {
          "data": {
            "text/html": [
              "\n",
              "  <div id=\"df-8f8057bb-a55c-4cf2-a34f-c0baca6de2a1\">\n",
              "    <div class=\"colab-df-container\">\n",
              "      <div>\n",
              "<style scoped>\n",
              "    .dataframe tbody tr th:only-of-type {\n",
              "        vertical-align: middle;\n",
              "    }\n",
              "\n",
              "    .dataframe tbody tr th {\n",
              "        vertical-align: top;\n",
              "    }\n",
              "\n",
              "    .dataframe thead th {\n",
              "        text-align: right;\n",
              "    }\n",
              "</style>\n",
              "<table border=\"1\" class=\"dataframe\">\n",
              "  <thead>\n",
              "    <tr style=\"text-align: right;\">\n",
              "      <th></th>\n",
              "      <th>fsq_id</th>\n",
              "      <th>name</th>\n",
              "      <th>address</th>\n",
              "      <th>locality</th>\n",
              "      <th>neighborhood</th>\n",
              "      <th>postcode</th>\n",
              "      <th>category</th>\n",
              "      <th>latitude</th>\n",
              "      <th>longitude</th>\n",
              "      <th>popularity</th>\n",
              "      <th>price</th>\n",
              "      <th>rating</th>\n",
              "      <th>distance_metro</th>\n",
              "      <th>distance_police</th>\n",
              "      <th>number_of_crimes</th>\n",
              "      <th>borough</th>\n",
              "    </tr>\n",
              "  </thead>\n",
              "  <tbody>\n",
              "    <tr>\n",
              "      <th>47</th>\n",
              "      <td>4bd7c86a304fce72600534ab</td>\n",
              "      <td>The Fusilier</td>\n",
              "      <td>Harrow Rd</td>\n",
              "      <td>London</td>\n",
              "      <td>Sudbury</td>\n",
              "      <td>HA20 2HA</td>\n",
              "      <td>Pub</td>\n",
              "      <td>51.561739</td>\n",
              "      <td>-0.331929</td>\n",
              "      <td>0.960519</td>\n",
              "      <td>1.0</td>\n",
              "      <td>7.2</td>\n",
              "      <td>595.956601</td>\n",
              "      <td>2138.848420</td>\n",
              "      <td>30</td>\n",
              "      <td>NaN</td>\n",
              "    </tr>\n",
              "    <tr>\n",
              "      <th>551</th>\n",
              "      <td>57ae03c938fa6c46b7e49fa1</td>\n",
              "      <td>McGettigan's Fulham</td>\n",
              "      <td>1 Fulham Broadway</td>\n",
              "      <td>London</td>\n",
              "      <td>NaN</td>\n",
              "      <td>SW6</td>\n",
              "      <td>Pub</td>\n",
              "      <td>51.479888</td>\n",
              "      <td>-0.196053</td>\n",
              "      <td>0.955144</td>\n",
              "      <td>1.0</td>\n",
              "      <td>6.7</td>\n",
              "      <td>94.942344</td>\n",
              "      <td>273.991747</td>\n",
              "      <td>164</td>\n",
              "      <td>NaN</td>\n",
              "    </tr>\n",
              "    <tr>\n",
              "      <th>571</th>\n",
              "      <td>4b7c3a5af964a520d1852fe3</td>\n",
              "      <td>Gloucester Arms</td>\n",
              "      <td>Victoria Grove</td>\n",
              "      <td>Greater London</td>\n",
              "      <td>NaN</td>\n",
              "      <td>SW7</td>\n",
              "      <td>Arts and Entertainment</td>\n",
              "      <td>51.498752</td>\n",
              "      <td>-0.183882</td>\n",
              "      <td>0.960377</td>\n",
              "      <td>1.0</td>\n",
              "      <td>5.9</td>\n",
              "      <td>612.484689</td>\n",
              "      <td>978.313212</td>\n",
              "      <td>108</td>\n",
              "      <td>NaN</td>\n",
              "    </tr>\n",
              "    <tr>\n",
              "      <th>760</th>\n",
              "      <td>4bc22283abf49521cf06c293</td>\n",
              "      <td>The Sydney Arms</td>\n",
              "      <td>Sydney St</td>\n",
              "      <td>Chelsea</td>\n",
              "      <td>NaN</td>\n",
              "      <td>Sw3</td>\n",
              "      <td>Pub</td>\n",
              "      <td>51.488642</td>\n",
              "      <td>-0.169781</td>\n",
              "      <td>0.946835</td>\n",
              "      <td>1.0</td>\n",
              "      <td>6.8</td>\n",
              "      <td>638.109791</td>\n",
              "      <td>437.177332</td>\n",
              "      <td>111</td>\n",
              "      <td>NaN</td>\n",
              "    </tr>\n",
              "  </tbody>\n",
              "</table>\n",
              "</div>\n",
              "      <button class=\"colab-df-convert\" onclick=\"convertToInteractive('df-8f8057bb-a55c-4cf2-a34f-c0baca6de2a1')\"\n",
              "              title=\"Convert this dataframe to an interactive table.\"\n",
              "              style=\"display:none;\">\n",
              "        \n",
              "  <svg xmlns=\"http://www.w3.org/2000/svg\" height=\"24px\"viewBox=\"0 0 24 24\"\n",
              "       width=\"24px\">\n",
              "    <path d=\"M0 0h24v24H0V0z\" fill=\"none\"/>\n",
              "    <path d=\"M18.56 5.44l.94 2.06.94-2.06 2.06-.94-2.06-.94-.94-2.06-.94 2.06-2.06.94zm-11 1L8.5 8.5l.94-2.06 2.06-.94-2.06-.94L8.5 2.5l-.94 2.06-2.06.94zm10 10l.94 2.06.94-2.06 2.06-.94-2.06-.94-.94-2.06-.94 2.06-2.06.94z\"/><path d=\"M17.41 7.96l-1.37-1.37c-.4-.4-.92-.59-1.43-.59-.52 0-1.04.2-1.43.59L10.3 9.45l-7.72 7.72c-.78.78-.78 2.05 0 2.83L4 21.41c.39.39.9.59 1.41.59.51 0 1.02-.2 1.41-.59l7.78-7.78 2.81-2.81c.8-.78.8-2.07 0-2.86zM5.41 20L4 18.59l7.72-7.72 1.47 1.35L5.41 20z\"/>\n",
              "  </svg>\n",
              "      </button>\n",
              "      \n",
              "  <style>\n",
              "    .colab-df-container {\n",
              "      display:flex;\n",
              "      flex-wrap:wrap;\n",
              "      gap: 12px;\n",
              "    }\n",
              "\n",
              "    .colab-df-convert {\n",
              "      background-color: #E8F0FE;\n",
              "      border: none;\n",
              "      border-radius: 50%;\n",
              "      cursor: pointer;\n",
              "      display: none;\n",
              "      fill: #1967D2;\n",
              "      height: 32px;\n",
              "      padding: 0 0 0 0;\n",
              "      width: 32px;\n",
              "    }\n",
              "\n",
              "    .colab-df-convert:hover {\n",
              "      background-color: #E2EBFA;\n",
              "      box-shadow: 0px 1px 2px rgba(60, 64, 67, 0.3), 0px 1px 3px 1px rgba(60, 64, 67, 0.15);\n",
              "      fill: #174EA6;\n",
              "    }\n",
              "\n",
              "    [theme=dark] .colab-df-convert {\n",
              "      background-color: #3B4455;\n",
              "      fill: #D2E3FC;\n",
              "    }\n",
              "\n",
              "    [theme=dark] .colab-df-convert:hover {\n",
              "      background-color: #434B5C;\n",
              "      box-shadow: 0px 1px 3px 1px rgba(0, 0, 0, 0.15);\n",
              "      filter: drop-shadow(0px 1px 2px rgba(0, 0, 0, 0.3));\n",
              "      fill: #FFFFFF;\n",
              "    }\n",
              "  </style>\n",
              "\n",
              "      <script>\n",
              "        const buttonEl =\n",
              "          document.querySelector('#df-8f8057bb-a55c-4cf2-a34f-c0baca6de2a1 button.colab-df-convert');\n",
              "        buttonEl.style.display =\n",
              "          google.colab.kernel.accessAllowed ? 'block' : 'none';\n",
              "\n",
              "        async function convertToInteractive(key) {\n",
              "          const element = document.querySelector('#df-8f8057bb-a55c-4cf2-a34f-c0baca6de2a1');\n",
              "          const dataTable =\n",
              "            await google.colab.kernel.invokeFunction('convertToInteractive',\n",
              "                                                     [key], {});\n",
              "          if (!dataTable) return;\n",
              "\n",
              "          const docLinkHtml = 'Like what you see? Visit the ' +\n",
              "            '<a target=\"_blank\" href=https://colab.research.google.com/notebooks/data_table.ipynb>data table notebook</a>'\n",
              "            + ' to learn more about interactive tables.';\n",
              "          element.innerHTML = '';\n",
              "          dataTable['output_type'] = 'display_data';\n",
              "          await google.colab.output.renderOutput(dataTable, element);\n",
              "          const docLink = document.createElement('div');\n",
              "          docLink.innerHTML = docLinkHtml;\n",
              "          element.appendChild(docLink);\n",
              "        }\n",
              "      </script>\n",
              "    </div>\n",
              "  </div>\n",
              "  "
            ],
            "text/plain": [
              "                       fsq_id                 name            address  \\\n",
              "47   4bd7c86a304fce72600534ab         The Fusilier          Harrow Rd   \n",
              "551  57ae03c938fa6c46b7e49fa1  McGettigan's Fulham  1 Fulham Broadway   \n",
              "571  4b7c3a5af964a520d1852fe3      Gloucester Arms     Victoria Grove   \n",
              "760  4bc22283abf49521cf06c293      The Sydney Arms          Sydney St   \n",
              "\n",
              "           locality neighborhood  postcode                category   latitude  \\\n",
              "47           London      Sudbury  HA20 2HA                     Pub  51.561739   \n",
              "551          London          NaN       SW6                     Pub  51.479888   \n",
              "571  Greater London          NaN       SW7  Arts and Entertainment  51.498752   \n",
              "760         Chelsea          NaN       Sw3                     Pub  51.488642   \n",
              "\n",
              "     longitude  popularity  price  rating  distance_metro  distance_police  \\\n",
              "47   -0.331929    0.960519    1.0     7.2      595.956601      2138.848420   \n",
              "551  -0.196053    0.955144    1.0     6.7       94.942344       273.991747   \n",
              "571  -0.183882    0.960377    1.0     5.9      612.484689       978.313212   \n",
              "760  -0.169781    0.946835    1.0     6.8      638.109791       437.177332   \n",
              "\n",
              "     number_of_crimes borough  \n",
              "47                 30     NaN  \n",
              "551               164     NaN  \n",
              "571               108     NaN  \n",
              "760               111     NaN  "
            ]
          },
          "execution_count": 135,
          "metadata": {},
          "output_type": "execute_result"
        }
      ],
      "source": [
        "df[df[\"borough\"].isnull()]"
      ]
    },
    {
      "cell_type": "code",
      "execution_count": 136,
      "metadata": {
        "colab": {
          "base_uri": "https://localhost:8080/"
        },
        "id": "_r0eX8R63cbw",
        "outputId": "24ca444e-c126-49f9-ab09-f7f1dc56b6f8"
      },
      "outputs": [
        {
          "name": "stderr",
          "output_type": "stream",
          "text": [
            "/usr/local/lib/python3.7/dist-packages/ipykernel_launcher.py:1: SettingWithCopyWarning: \n",
            "A value is trying to be set on a copy of a slice from a DataFrame\n",
            "\n",
            "See the caveats in the documentation: https://pandas.pydata.org/pandas-docs/stable/user_guide/indexing.html#returning-a-view-versus-a-copy\n",
            "  \"\"\"Entry point for launching an IPython kernel.\n",
            "/usr/local/lib/python3.7/dist-packages/ipykernel_launcher.py:2: SettingWithCopyWarning: \n",
            "A value is trying to be set on a copy of a slice from a DataFrame\n",
            "\n",
            "See the caveats in the documentation: https://pandas.pydata.org/pandas-docs/stable/user_guide/indexing.html#returning-a-view-versus-a-copy\n",
            "  \n"
          ]
        }
      ],
      "source": [
        "df[\"borough\"][df[\"postcode\"] == \"HA20 2HA\"] = \"London Borough of Brent\"\n",
        "df[\"postcode\"][df[\"postcode\"] == \"HA20 2HA\"] = \"HA0 2HA\""
      ]
    },
    {
      "cell_type": "code",
      "execution_count": 137,
      "metadata": {
        "colab": {
          "base_uri": "https://localhost:8080/"
        },
        "id": "HCh4TNx-4k4f",
        "outputId": "cb52eede-b89d-4b7a-fd77-ec692e95c226"
      },
      "outputs": [
        {
          "name": "stderr",
          "output_type": "stream",
          "text": [
            "/usr/local/lib/python3.7/dist-packages/ipykernel_launcher.py:1: SettingWithCopyWarning: \n",
            "A value is trying to be set on a copy of a slice from a DataFrame\n",
            "\n",
            "See the caveats in the documentation: https://pandas.pydata.org/pandas-docs/stable/user_guide/indexing.html#returning-a-view-versus-a-copy\n",
            "  \"\"\"Entry point for launching an IPython kernel.\n",
            "/usr/local/lib/python3.7/dist-packages/ipykernel_launcher.py:2: SettingWithCopyWarning: \n",
            "A value is trying to be set on a copy of a slice from a DataFrame\n",
            "\n",
            "See the caveats in the documentation: https://pandas.pydata.org/pandas-docs/stable/user_guide/indexing.html#returning-a-view-versus-a-copy\n",
            "  \n"
          ]
        }
      ],
      "source": [
        "df[\"borough\"][df[\"postcode\"] == \"SW6\"] = \"London Borough of Hammersmith & Fulham\"\n",
        "df[\"postcode\"][df[\"postcode\"] == \"SW6\"] = \"SW6 1AA\""
      ]
    },
    {
      "cell_type": "code",
      "execution_count": 138,
      "metadata": {
        "colab": {
          "base_uri": "https://localhost:8080/"
        },
        "id": "OeeGs3yF4t7B",
        "outputId": "e23bcb03-8f04-4c1a-9e89-6609cf31b990"
      },
      "outputs": [
        {
          "name": "stderr",
          "output_type": "stream",
          "text": [
            "/usr/local/lib/python3.7/dist-packages/ipykernel_launcher.py:1: SettingWithCopyWarning: \n",
            "A value is trying to be set on a copy of a slice from a DataFrame\n",
            "\n",
            "See the caveats in the documentation: https://pandas.pydata.org/pandas-docs/stable/user_guide/indexing.html#returning-a-view-versus-a-copy\n",
            "  \"\"\"Entry point for launching an IPython kernel.\n",
            "/usr/local/lib/python3.7/dist-packages/ipykernel_launcher.py:2: SettingWithCopyWarning: \n",
            "A value is trying to be set on a copy of a slice from a DataFrame\n",
            "\n",
            "See the caveats in the documentation: https://pandas.pydata.org/pandas-docs/stable/user_guide/indexing.html#returning-a-view-versus-a-copy\n",
            "  \n"
          ]
        }
      ],
      "source": [
        "df[\"borough\"][df[\"postcode\"] == \" SW7\"] = \"Royal Borough of Kensington and Chelsea\"\n",
        "df[\"postcode\"][df[\"postcode\"] == \" SW7\"] = \"SW7 4RB\""
      ]
    },
    {
      "cell_type": "code",
      "execution_count": 139,
      "metadata": {
        "colab": {
          "base_uri": "https://localhost:8080/"
        },
        "id": "rDs5Phuf4xOC",
        "outputId": "bba2d110-6e7d-428a-d6fd-3e05df8bf35f"
      },
      "outputs": [
        {
          "name": "stderr",
          "output_type": "stream",
          "text": [
            "/usr/local/lib/python3.7/dist-packages/ipykernel_launcher.py:1: SettingWithCopyWarning: \n",
            "A value is trying to be set on a copy of a slice from a DataFrame\n",
            "\n",
            "See the caveats in the documentation: https://pandas.pydata.org/pandas-docs/stable/user_guide/indexing.html#returning-a-view-versus-a-copy\n",
            "  \"\"\"Entry point for launching an IPython kernel.\n",
            "/usr/local/lib/python3.7/dist-packages/ipykernel_launcher.py:2: SettingWithCopyWarning: \n",
            "A value is trying to be set on a copy of a slice from a DataFrame\n",
            "\n",
            "See the caveats in the documentation: https://pandas.pydata.org/pandas-docs/stable/user_guide/indexing.html#returning-a-view-versus-a-copy\n",
            "  \n"
          ]
        }
      ],
      "source": [
        "df[\"borough\"][df[\"postcode\"] == \" Sw3\"] = \"Royal Borough of Kensington and Chelsea\"\n",
        "df[\"postcode\"][df[\"postcode\"] == \" Sw3\"] = \"SW3 6NJ\""
      ]
    },
    {
      "cell_type": "code",
      "execution_count": 140,
      "metadata": {
        "colab": {
          "base_uri": "https://localhost:8080/"
        },
        "id": "yE_uN2VK42m3",
        "outputId": "8739c126-9b5c-4f22-8ff0-a0b50e630056"
      },
      "outputs": [
        {
          "name": "stdout",
          "output_type": "stream",
          "text": [
            "<class 'pandas.core.frame.DataFrame'>\n",
            "Int64Index: 865 entries, 0 to 1157\n",
            "Data columns (total 16 columns):\n",
            " #   Column            Non-Null Count  Dtype  \n",
            "---  ------            --------------  -----  \n",
            " 0   fsq_id            865 non-null    object \n",
            " 1   name              865 non-null    object \n",
            " 2   address           849 non-null    object \n",
            " 3   locality          859 non-null    object \n",
            " 4   neighborhood      786 non-null    object \n",
            " 5   postcode          865 non-null    object \n",
            " 6   category          865 non-null    object \n",
            " 7   latitude          865 non-null    float64\n",
            " 8   longitude         865 non-null    float64\n",
            " 9   popularity        865 non-null    float64\n",
            " 10  price             865 non-null    float64\n",
            " 11  rating            865 non-null    float64\n",
            " 12  distance_metro    865 non-null    float64\n",
            " 13  distance_police   865 non-null    float64\n",
            " 14  number_of_crimes  865 non-null    int64  \n",
            " 15  borough           865 non-null    object \n",
            "dtypes: float64(7), int64(1), object(8)\n",
            "memory usage: 147.2+ KB\n"
          ]
        }
      ],
      "source": [
        "df.info()"
      ]
    },
    {
      "cell_type": "markdown",
      "metadata": {
        "id": "PqNQXVXN7zCS"
      },
      "source": [
        "#Select variables for analysis"
      ]
    },
    {
      "cell_type": "code",
      "execution_count": 142,
      "metadata": {
        "id": "kYworDQk7Tag"
      },
      "outputs": [],
      "source": [
        "df.drop(columns=[\"address\", \"locality\", \"neighborhood\", \"category\", \"fsq_id\"], inplace=True)"
      ]
    },
    {
      "cell_type": "code",
      "execution_count": 143,
      "metadata": {
        "colab": {
          "base_uri": "https://localhost:8080/",
          "height": 461
        },
        "id": "Ng_d0wBE8TLy",
        "outputId": "d4d64b98-519e-4b07-af22-512ad016905b"
      },
      "outputs": [
        {
          "data": {
            "text/html": [
              "\n",
              "  <div id=\"df-bc7860df-86ae-4351-bb50-030d1779330c\">\n",
              "    <div class=\"colab-df-container\">\n",
              "      <div>\n",
              "<style scoped>\n",
              "    .dataframe tbody tr th:only-of-type {\n",
              "        vertical-align: middle;\n",
              "    }\n",
              "\n",
              "    .dataframe tbody tr th {\n",
              "        vertical-align: top;\n",
              "    }\n",
              "\n",
              "    .dataframe thead th {\n",
              "        text-align: right;\n",
              "    }\n",
              "</style>\n",
              "<table border=\"1\" class=\"dataframe\">\n",
              "  <thead>\n",
              "    <tr style=\"text-align: right;\">\n",
              "      <th></th>\n",
              "      <th>name</th>\n",
              "      <th>postcode</th>\n",
              "      <th>latitude</th>\n",
              "      <th>longitude</th>\n",
              "      <th>popularity</th>\n",
              "      <th>price</th>\n",
              "      <th>rating</th>\n",
              "      <th>distance_metro</th>\n",
              "      <th>distance_police</th>\n",
              "      <th>number_of_crimes</th>\n",
              "      <th>borough</th>\n",
              "    </tr>\n",
              "  </thead>\n",
              "  <tbody>\n",
              "    <tr>\n",
              "      <th>0</th>\n",
              "      <td>The Black Horse</td>\n",
              "      <td>EN5 4BW</td>\n",
              "      <td>51.653075</td>\n",
              "      <td>-0.206657</td>\n",
              "      <td>0.939551</td>\n",
              "      <td>1.0</td>\n",
              "      <td>8.1</td>\n",
              "      <td>904.722178</td>\n",
              "      <td>390.281423</td>\n",
              "      <td>30</td>\n",
              "      <td>London Borough of Barnet</td>\n",
              "    </tr>\n",
              "    <tr>\n",
              "      <th>1</th>\n",
              "      <td>Ye Olde Mitre Inne</td>\n",
              "      <td>EN5 5SJ</td>\n",
              "      <td>51.652979</td>\n",
              "      <td>-0.199367</td>\n",
              "      <td>0.982768</td>\n",
              "      <td>1.0</td>\n",
              "      <td>7.6</td>\n",
              "      <td>443.945965</td>\n",
              "      <td>119.561106</td>\n",
              "      <td>45</td>\n",
              "      <td>London Borough of Barnet</td>\n",
              "    </tr>\n",
              "    <tr>\n",
              "      <th>2</th>\n",
              "      <td>The Arkley</td>\n",
              "      <td>EN5 3EP</td>\n",
              "      <td>51.652533</td>\n",
              "      <td>-0.219573</td>\n",
              "      <td>0.987375</td>\n",
              "      <td>1.0</td>\n",
              "      <td>7.7</td>\n",
              "      <td>1767.173867</td>\n",
              "      <td>1215.815963</td>\n",
              "      <td>2</td>\n",
              "      <td>London Borough of Barnet</td>\n",
              "    </tr>\n",
              "    <tr>\n",
              "      <th>3</th>\n",
              "      <td>Railway Tavern</td>\n",
              "      <td>EN4 8RR</td>\n",
              "      <td>51.650059</td>\n",
              "      <td>-0.174692</td>\n",
              "      <td>0.950895</td>\n",
              "      <td>1.0</td>\n",
              "      <td>7.4</td>\n",
              "      <td>1343.248049</td>\n",
              "      <td>1149.621255</td>\n",
              "      <td>64</td>\n",
              "      <td>London Borough of Barnet</td>\n",
              "    </tr>\n",
              "    <tr>\n",
              "      <th>4</th>\n",
              "      <td>The Kings Head</td>\n",
              "      <td>EN5 5SN</td>\n",
              "      <td>51.653499</td>\n",
              "      <td>-0.200979</td>\n",
              "      <td>0.377777</td>\n",
              "      <td>1.0</td>\n",
              "      <td>6.6</td>\n",
              "      <td>568.292759</td>\n",
              "      <td>98.112834</td>\n",
              "      <td>40</td>\n",
              "      <td>London Borough of Barnet</td>\n",
              "    </tr>\n",
              "  </tbody>\n",
              "</table>\n",
              "</div>\n",
              "      <button class=\"colab-df-convert\" onclick=\"convertToInteractive('df-bc7860df-86ae-4351-bb50-030d1779330c')\"\n",
              "              title=\"Convert this dataframe to an interactive table.\"\n",
              "              style=\"display:none;\">\n",
              "        \n",
              "  <svg xmlns=\"http://www.w3.org/2000/svg\" height=\"24px\"viewBox=\"0 0 24 24\"\n",
              "       width=\"24px\">\n",
              "    <path d=\"M0 0h24v24H0V0z\" fill=\"none\"/>\n",
              "    <path d=\"M18.56 5.44l.94 2.06.94-2.06 2.06-.94-2.06-.94-.94-2.06-.94 2.06-2.06.94zm-11 1L8.5 8.5l.94-2.06 2.06-.94-2.06-.94L8.5 2.5l-.94 2.06-2.06.94zm10 10l.94 2.06.94-2.06 2.06-.94-2.06-.94-.94-2.06-.94 2.06-2.06.94z\"/><path d=\"M17.41 7.96l-1.37-1.37c-.4-.4-.92-.59-1.43-.59-.52 0-1.04.2-1.43.59L10.3 9.45l-7.72 7.72c-.78.78-.78 2.05 0 2.83L4 21.41c.39.39.9.59 1.41.59.51 0 1.02-.2 1.41-.59l7.78-7.78 2.81-2.81c.8-.78.8-2.07 0-2.86zM5.41 20L4 18.59l7.72-7.72 1.47 1.35L5.41 20z\"/>\n",
              "  </svg>\n",
              "      </button>\n",
              "      \n",
              "  <style>\n",
              "    .colab-df-container {\n",
              "      display:flex;\n",
              "      flex-wrap:wrap;\n",
              "      gap: 12px;\n",
              "    }\n",
              "\n",
              "    .colab-df-convert {\n",
              "      background-color: #E8F0FE;\n",
              "      border: none;\n",
              "      border-radius: 50%;\n",
              "      cursor: pointer;\n",
              "      display: none;\n",
              "      fill: #1967D2;\n",
              "      height: 32px;\n",
              "      padding: 0 0 0 0;\n",
              "      width: 32px;\n",
              "    }\n",
              "\n",
              "    .colab-df-convert:hover {\n",
              "      background-color: #E2EBFA;\n",
              "      box-shadow: 0px 1px 2px rgba(60, 64, 67, 0.3), 0px 1px 3px 1px rgba(60, 64, 67, 0.15);\n",
              "      fill: #174EA6;\n",
              "    }\n",
              "\n",
              "    [theme=dark] .colab-df-convert {\n",
              "      background-color: #3B4455;\n",
              "      fill: #D2E3FC;\n",
              "    }\n",
              "\n",
              "    [theme=dark] .colab-df-convert:hover {\n",
              "      background-color: #434B5C;\n",
              "      box-shadow: 0px 1px 3px 1px rgba(0, 0, 0, 0.15);\n",
              "      filter: drop-shadow(0px 1px 2px rgba(0, 0, 0, 0.3));\n",
              "      fill: #FFFFFF;\n",
              "    }\n",
              "  </style>\n",
              "\n",
              "      <script>\n",
              "        const buttonEl =\n",
              "          document.querySelector('#df-bc7860df-86ae-4351-bb50-030d1779330c button.colab-df-convert');\n",
              "        buttonEl.style.display =\n",
              "          google.colab.kernel.accessAllowed ? 'block' : 'none';\n",
              "\n",
              "        async function convertToInteractive(key) {\n",
              "          const element = document.querySelector('#df-bc7860df-86ae-4351-bb50-030d1779330c');\n",
              "          const dataTable =\n",
              "            await google.colab.kernel.invokeFunction('convertToInteractive',\n",
              "                                                     [key], {});\n",
              "          if (!dataTable) return;\n",
              "\n",
              "          const docLinkHtml = 'Like what you see? Visit the ' +\n",
              "            '<a target=\"_blank\" href=https://colab.research.google.com/notebooks/data_table.ipynb>data table notebook</a>'\n",
              "            + ' to learn more about interactive tables.';\n",
              "          element.innerHTML = '';\n",
              "          dataTable['output_type'] = 'display_data';\n",
              "          await google.colab.output.renderOutput(dataTable, element);\n",
              "          const docLink = document.createElement('div');\n",
              "          docLink.innerHTML = docLinkHtml;\n",
              "          element.appendChild(docLink);\n",
              "        }\n",
              "      </script>\n",
              "    </div>\n",
              "  </div>\n",
              "  "
            ],
            "text/plain": [
              "                 name postcode   latitude  longitude  popularity  price  \\\n",
              "0     The Black Horse  EN5 4BW  51.653075  -0.206657    0.939551    1.0   \n",
              "1  Ye Olde Mitre Inne  EN5 5SJ  51.652979  -0.199367    0.982768    1.0   \n",
              "2          The Arkley  EN5 3EP  51.652533  -0.219573    0.987375    1.0   \n",
              "3      Railway Tavern  EN4 8RR  51.650059  -0.174692    0.950895    1.0   \n",
              "4      The Kings Head  EN5 5SN  51.653499  -0.200979    0.377777    1.0   \n",
              "\n",
              "   rating  distance_metro  distance_police  number_of_crimes  \\\n",
              "0     8.1      904.722178       390.281423                30   \n",
              "1     7.6      443.945965       119.561106                45   \n",
              "2     7.7     1767.173867      1215.815963                 2   \n",
              "3     7.4     1343.248049      1149.621255                64   \n",
              "4     6.6      568.292759        98.112834                40   \n",
              "\n",
              "                    borough  \n",
              "0  London Borough of Barnet  \n",
              "1  London Borough of Barnet  \n",
              "2  London Borough of Barnet  \n",
              "3  London Borough of Barnet  \n",
              "4  London Borough of Barnet  "
            ]
          },
          "execution_count": 143,
          "metadata": {},
          "output_type": "execute_result"
        }
      ],
      "source": [
        "df.head()"
      ]
    },
    {
      "cell_type": "code",
      "execution_count": 144,
      "metadata": {
        "id": "Y7DxZfTw8U1e"
      },
      "outputs": [],
      "source": [
        "columns_order = [\"name\", \"postcode\", \"borough\", \"latitude\", \"longitude\", \"price\", \"rating\", \"popularity\", \"distance_metro\", \"distance_police\", \"number_of_crimes\"]\n",
        "df = df.reindex(columns=columns_order)"
      ]
    },
    {
      "cell_type": "code",
      "execution_count": 145,
      "metadata": {
        "colab": {
          "base_uri": "https://localhost:8080/",
          "height": 461
        },
        "id": "UGBHMoO2-GFw",
        "outputId": "df37cc88-94fa-452e-9889-f98617426e57"
      },
      "outputs": [
        {
          "data": {
            "text/html": [
              "\n",
              "  <div id=\"df-a711cafa-fe8b-4149-a388-678c5eba1e07\">\n",
              "    <div class=\"colab-df-container\">\n",
              "      <div>\n",
              "<style scoped>\n",
              "    .dataframe tbody tr th:only-of-type {\n",
              "        vertical-align: middle;\n",
              "    }\n",
              "\n",
              "    .dataframe tbody tr th {\n",
              "        vertical-align: top;\n",
              "    }\n",
              "\n",
              "    .dataframe thead th {\n",
              "        text-align: right;\n",
              "    }\n",
              "</style>\n",
              "<table border=\"1\" class=\"dataframe\">\n",
              "  <thead>\n",
              "    <tr style=\"text-align: right;\">\n",
              "      <th></th>\n",
              "      <th>name</th>\n",
              "      <th>postcode</th>\n",
              "      <th>borough</th>\n",
              "      <th>latitude</th>\n",
              "      <th>longitude</th>\n",
              "      <th>price</th>\n",
              "      <th>rating</th>\n",
              "      <th>popularity</th>\n",
              "      <th>distance_metro</th>\n",
              "      <th>distance_police</th>\n",
              "      <th>number_of_crimes</th>\n",
              "    </tr>\n",
              "  </thead>\n",
              "  <tbody>\n",
              "    <tr>\n",
              "      <th>0</th>\n",
              "      <td>The Black Horse</td>\n",
              "      <td>EN5 4BW</td>\n",
              "      <td>London Borough of Barnet</td>\n",
              "      <td>51.653075</td>\n",
              "      <td>-0.206657</td>\n",
              "      <td>1.0</td>\n",
              "      <td>8.1</td>\n",
              "      <td>0.939551</td>\n",
              "      <td>904.722178</td>\n",
              "      <td>390.281423</td>\n",
              "      <td>30</td>\n",
              "    </tr>\n",
              "    <tr>\n",
              "      <th>1</th>\n",
              "      <td>Ye Olde Mitre Inne</td>\n",
              "      <td>EN5 5SJ</td>\n",
              "      <td>London Borough of Barnet</td>\n",
              "      <td>51.652979</td>\n",
              "      <td>-0.199367</td>\n",
              "      <td>1.0</td>\n",
              "      <td>7.6</td>\n",
              "      <td>0.982768</td>\n",
              "      <td>443.945965</td>\n",
              "      <td>119.561106</td>\n",
              "      <td>45</td>\n",
              "    </tr>\n",
              "    <tr>\n",
              "      <th>2</th>\n",
              "      <td>The Arkley</td>\n",
              "      <td>EN5 3EP</td>\n",
              "      <td>London Borough of Barnet</td>\n",
              "      <td>51.652533</td>\n",
              "      <td>-0.219573</td>\n",
              "      <td>1.0</td>\n",
              "      <td>7.7</td>\n",
              "      <td>0.987375</td>\n",
              "      <td>1767.173867</td>\n",
              "      <td>1215.815963</td>\n",
              "      <td>2</td>\n",
              "    </tr>\n",
              "    <tr>\n",
              "      <th>3</th>\n",
              "      <td>Railway Tavern</td>\n",
              "      <td>EN4 8RR</td>\n",
              "      <td>London Borough of Barnet</td>\n",
              "      <td>51.650059</td>\n",
              "      <td>-0.174692</td>\n",
              "      <td>1.0</td>\n",
              "      <td>7.4</td>\n",
              "      <td>0.950895</td>\n",
              "      <td>1343.248049</td>\n",
              "      <td>1149.621255</td>\n",
              "      <td>64</td>\n",
              "    </tr>\n",
              "    <tr>\n",
              "      <th>4</th>\n",
              "      <td>The Kings Head</td>\n",
              "      <td>EN5 5SN</td>\n",
              "      <td>London Borough of Barnet</td>\n",
              "      <td>51.653499</td>\n",
              "      <td>-0.200979</td>\n",
              "      <td>1.0</td>\n",
              "      <td>6.6</td>\n",
              "      <td>0.377777</td>\n",
              "      <td>568.292759</td>\n",
              "      <td>98.112834</td>\n",
              "      <td>40</td>\n",
              "    </tr>\n",
              "  </tbody>\n",
              "</table>\n",
              "</div>\n",
              "      <button class=\"colab-df-convert\" onclick=\"convertToInteractive('df-a711cafa-fe8b-4149-a388-678c5eba1e07')\"\n",
              "              title=\"Convert this dataframe to an interactive table.\"\n",
              "              style=\"display:none;\">\n",
              "        \n",
              "  <svg xmlns=\"http://www.w3.org/2000/svg\" height=\"24px\"viewBox=\"0 0 24 24\"\n",
              "       width=\"24px\">\n",
              "    <path d=\"M0 0h24v24H0V0z\" fill=\"none\"/>\n",
              "    <path d=\"M18.56 5.44l.94 2.06.94-2.06 2.06-.94-2.06-.94-.94-2.06-.94 2.06-2.06.94zm-11 1L8.5 8.5l.94-2.06 2.06-.94-2.06-.94L8.5 2.5l-.94 2.06-2.06.94zm10 10l.94 2.06.94-2.06 2.06-.94-2.06-.94-.94-2.06-.94 2.06-2.06.94z\"/><path d=\"M17.41 7.96l-1.37-1.37c-.4-.4-.92-.59-1.43-.59-.52 0-1.04.2-1.43.59L10.3 9.45l-7.72 7.72c-.78.78-.78 2.05 0 2.83L4 21.41c.39.39.9.59 1.41.59.51 0 1.02-.2 1.41-.59l7.78-7.78 2.81-2.81c.8-.78.8-2.07 0-2.86zM5.41 20L4 18.59l7.72-7.72 1.47 1.35L5.41 20z\"/>\n",
              "  </svg>\n",
              "      </button>\n",
              "      \n",
              "  <style>\n",
              "    .colab-df-container {\n",
              "      display:flex;\n",
              "      flex-wrap:wrap;\n",
              "      gap: 12px;\n",
              "    }\n",
              "\n",
              "    .colab-df-convert {\n",
              "      background-color: #E8F0FE;\n",
              "      border: none;\n",
              "      border-radius: 50%;\n",
              "      cursor: pointer;\n",
              "      display: none;\n",
              "      fill: #1967D2;\n",
              "      height: 32px;\n",
              "      padding: 0 0 0 0;\n",
              "      width: 32px;\n",
              "    }\n",
              "\n",
              "    .colab-df-convert:hover {\n",
              "      background-color: #E2EBFA;\n",
              "      box-shadow: 0px 1px 2px rgba(60, 64, 67, 0.3), 0px 1px 3px 1px rgba(60, 64, 67, 0.15);\n",
              "      fill: #174EA6;\n",
              "    }\n",
              "\n",
              "    [theme=dark] .colab-df-convert {\n",
              "      background-color: #3B4455;\n",
              "      fill: #D2E3FC;\n",
              "    }\n",
              "\n",
              "    [theme=dark] .colab-df-convert:hover {\n",
              "      background-color: #434B5C;\n",
              "      box-shadow: 0px 1px 3px 1px rgba(0, 0, 0, 0.15);\n",
              "      filter: drop-shadow(0px 1px 2px rgba(0, 0, 0, 0.3));\n",
              "      fill: #FFFFFF;\n",
              "    }\n",
              "  </style>\n",
              "\n",
              "      <script>\n",
              "        const buttonEl =\n",
              "          document.querySelector('#df-a711cafa-fe8b-4149-a388-678c5eba1e07 button.colab-df-convert');\n",
              "        buttonEl.style.display =\n",
              "          google.colab.kernel.accessAllowed ? 'block' : 'none';\n",
              "\n",
              "        async function convertToInteractive(key) {\n",
              "          const element = document.querySelector('#df-a711cafa-fe8b-4149-a388-678c5eba1e07');\n",
              "          const dataTable =\n",
              "            await google.colab.kernel.invokeFunction('convertToInteractive',\n",
              "                                                     [key], {});\n",
              "          if (!dataTable) return;\n",
              "\n",
              "          const docLinkHtml = 'Like what you see? Visit the ' +\n",
              "            '<a target=\"_blank\" href=https://colab.research.google.com/notebooks/data_table.ipynb>data table notebook</a>'\n",
              "            + ' to learn more about interactive tables.';\n",
              "          element.innerHTML = '';\n",
              "          dataTable['output_type'] = 'display_data';\n",
              "          await google.colab.output.renderOutput(dataTable, element);\n",
              "          const docLink = document.createElement('div');\n",
              "          docLink.innerHTML = docLinkHtml;\n",
              "          element.appendChild(docLink);\n",
              "        }\n",
              "      </script>\n",
              "    </div>\n",
              "  </div>\n",
              "  "
            ],
            "text/plain": [
              "                 name postcode                   borough   latitude  \\\n",
              "0     The Black Horse  EN5 4BW  London Borough of Barnet  51.653075   \n",
              "1  Ye Olde Mitre Inne  EN5 5SJ  London Borough of Barnet  51.652979   \n",
              "2          The Arkley  EN5 3EP  London Borough of Barnet  51.652533   \n",
              "3      Railway Tavern  EN4 8RR  London Borough of Barnet  51.650059   \n",
              "4      The Kings Head  EN5 5SN  London Borough of Barnet  51.653499   \n",
              "\n",
              "   longitude  price  rating  popularity  distance_metro  distance_police  \\\n",
              "0  -0.206657    1.0     8.1    0.939551      904.722178       390.281423   \n",
              "1  -0.199367    1.0     7.6    0.982768      443.945965       119.561106   \n",
              "2  -0.219573    1.0     7.7    0.987375     1767.173867      1215.815963   \n",
              "3  -0.174692    1.0     7.4    0.950895     1343.248049      1149.621255   \n",
              "4  -0.200979    1.0     6.6    0.377777      568.292759        98.112834   \n",
              "\n",
              "   number_of_crimes  \n",
              "0                30  \n",
              "1                45  \n",
              "2                 2  \n",
              "3                64  \n",
              "4                40  "
            ]
          },
          "execution_count": 145,
          "metadata": {},
          "output_type": "execute_result"
        }
      ],
      "source": [
        "df.head()"
      ]
    },
    {
      "cell_type": "code",
      "execution_count": 146,
      "metadata": {
        "colab": {
          "base_uri": "https://localhost:8080/"
        },
        "id": "MoUE8yMT-G2d",
        "outputId": "370a4e52-ede0-4cef-c276-a5925fe534a6"
      },
      "outputs": [
        {
          "name": "stdout",
          "output_type": "stream",
          "text": [
            "<class 'pandas.core.frame.DataFrame'>\n",
            "Int64Index: 865 entries, 0 to 1157\n",
            "Data columns (total 11 columns):\n",
            " #   Column            Non-Null Count  Dtype  \n",
            "---  ------            --------------  -----  \n",
            " 0   name              865 non-null    object \n",
            " 1   postcode          865 non-null    object \n",
            " 2   borough           865 non-null    object \n",
            " 3   latitude          865 non-null    float64\n",
            " 4   longitude         865 non-null    float64\n",
            " 5   price             865 non-null    float64\n",
            " 6   rating            865 non-null    float64\n",
            " 7   popularity        865 non-null    float64\n",
            " 8   distance_metro    865 non-null    float64\n",
            " 9   distance_police   865 non-null    float64\n",
            " 10  number_of_crimes  865 non-null    int64  \n",
            "dtypes: float64(7), int64(1), object(3)\n",
            "memory usage: 113.4+ KB\n"
          ]
        }
      ],
      "source": [
        "df.info()"
      ]
    },
    {
      "cell_type": "code",
      "execution_count": 148,
      "metadata": {
        "id": "RiEzoZKN-MN-"
      },
      "outputs": [],
      "source": [
        "df.to_csv(\"data-wrangling-pubs-data-complete.csv\")"
      ]
    },
    {
      "cell_type": "code",
      "execution_count": null,
      "metadata": {
        "id": "HqZIWB2o-eCH"
      },
      "outputs": [],
      "source": []
    }
  ],
  "metadata": {
    "colab": {
      "collapsed_sections": [
        "XUaPviGId4jL",
        "Wgzj5ovWIC9Q"
      ],
      "name": "data-wrangling-missing-values.ipynb",
      "provenance": []
    },
    "kernelspec": {
      "display_name": "Python 3",
      "name": "python3"
    },
    "language_info": {
      "name": "python"
    }
  },
  "nbformat": 4,
  "nbformat_minor": 0
}
